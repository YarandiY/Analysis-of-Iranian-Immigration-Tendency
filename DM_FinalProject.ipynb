{
  "nbformat": 4,
  "nbformat_minor": 0,
  "metadata": {
    "colab": {
      "name": "DM_FinalProject.ipynb",
      "provenance": [],
      "collapsed_sections": [
        "xocUDGiAsYHo",
        "Ip1QOFfducjf",
        "yvlO8RKh-sj6",
        "xYTCOuHbEQhr",
        "sqtQSovhPXDI",
        "xc0ojnLstpQz",
        "GWa38-5S4lpw"
      ],
      "toc_visible": true
    },
    "kernelspec": {
      "name": "python3",
      "display_name": "Python 3"
    },
    "language_info": {
      "name": "python"
    }
  },
  "cells": [
    {
      "cell_type": "markdown",
      "metadata": {
        "id": "-9Q8iuujg5-G"
      },
      "source": [
        "# **Analysis of Iranian Immigration Tendency**\n",
        "Final project of Data Mining Course"
      ]
    },
    {
      "cell_type": "markdown",
      "metadata": {
        "id": "2Pdtj0QjsLM6"
      },
      "source": [
        "The dataset that we used is the information of some people and their tendency to immigrating"
      ]
    },
    {
      "cell_type": "code",
      "metadata": {
        "id": "E6AizABOr_Wq"
      },
      "source": [
        "import pandas as pd\n",
        "import matplotlib.pyplot as plt\n",
        "import numpy as np\n",
        "from sklearn.model_selection import train_test_split\n",
        "import warnings\n",
        "from sklearn.metrics import accuracy_score\n",
        "from sklearn.metrics import confusion_matrix, classification_report\n",
        "from sklearn.tree import DecisionTreeClassifier\n",
        "warnings.filterwarnings('ignore')\n",
        "\n",
        "from sklearn.pipeline import Pipeline\n",
        "from sklearn.naive_bayes import MultinomialNB\n",
        "from sklearn.metrics.pairwise import cosine_similarity\n",
        "from sklearn import linear_model"
      ],
      "execution_count": null,
      "outputs": []
    },
    {
      "cell_type": "code",
      "metadata": {
        "id": "BX4H0Rb4sO1j",
        "colab": {
          "base_uri": "https://localhost:8080/"
        },
        "outputId": "573a8922-9950-47d2-b189-a397e8e4a8e4"
      },
      "source": [
        "# Access to google drive\n",
        "from google.colab import drive\n",
        "drive.mount('/content/gdrive')"
      ],
      "execution_count": null,
      "outputs": [
        {
          "output_type": "stream",
          "text": [
            "Drive already mounted at /content/gdrive; to attempt to forcibly remount, call drive.mount(\"/content/gdrive\", force_remount=True).\n"
          ],
          "name": "stdout"
        }
      ]
    },
    {
      "cell_type": "markdown",
      "metadata": {
        "id": "xocUDGiAsYHo"
      },
      "source": [
        "# Loading dataset"
      ]
    },
    {
      "cell_type": "code",
      "metadata": {
        "id": "hR7T7Da-sQxz",
        "colab": {
          "base_uri": "https://localhost:8080/"
        },
        "outputId": "8b24e1ff-e882-48c6-f2a5-6aae8737b5f8"
      },
      "source": [
        "# Read dataset from google drive\n",
        "df = pd.read_csv('/content/gdrive/MyDrive/Colab Notebooks/migration.csv')\n",
        "df.head()"
      ],
      "execution_count": null,
      "outputs": [
        {
          "output_type": "execute_result",
          "data": {
            "text/html": [
              "<div>\n",
              "<style scoped>\n",
              "    .dataframe tbody tr th:only-of-type {\n",
              "        vertical-align: middle;\n",
              "    }\n",
              "\n",
              "    .dataframe tbody tr th {\n",
              "        vertical-align: top;\n",
              "    }\n",
              "\n",
              "    .dataframe thead th {\n",
              "        text-align: right;\n",
              "    }\n",
              "</style>\n",
              "<table border=\"1\" class=\"dataframe\">\n",
              "  <thead>\n",
              "    <tr style=\"text-align: right;\">\n",
              "      <th></th>\n",
              "      <th>scode</th>\n",
              "      <th>scen1_yesim</th>\n",
              "      <th>scen1_noim</th>\n",
              "      <th>scen2_disagree</th>\n",
              "      <th>scen2_agree</th>\n",
              "      <th>scen3_yesim</th>\n",
              "      <th>scen3_noim</th>\n",
              "      <th>scen4_yesim</th>\n",
              "      <th>scen4_noim</th>\n",
              "      <th>scen6_yesim</th>\n",
              "      <th>scen6_noim</th>\n",
              "      <th>scen7_yesim</th>\n",
              "      <th>scen7_noim</th>\n",
              "      <th>scen8_yesim</th>\n",
              "      <th>scen8_noim</th>\n",
              "      <th>scen9_yesim</th>\n",
              "      <th>scen9_noim</th>\n",
              "      <th>scen10_yesim</th>\n",
              "      <th>scen10_noim</th>\n",
              "      <th>scen11_yesim</th>\n",
              "      <th>scen11_noim</th>\n",
              "      <th>r_bestpart</th>\n",
              "      <th>r_helpcommunity</th>\n",
              "      <th>r_heroically</th>\n",
              "      <th>r_hadagreed</th>\n",
              "      <th>r_protectfamily</th>\n",
              "      <th>r_deffered_authority</th>\n",
              "      <th>r_vandalised</th>\n",
              "      <th>r_memberfamily</th>\n",
              "      <th>r_tookmore</th>\n",
              "      <th>r_courage</th>\n",
              "      <th>r_trusted</th>\n",
              "      <th>r_disobeyed</th>\n",
              "      <th>r_membercommunity</th>\n",
              "      <th>r_belong</th>\n",
              "      <th>r_favouritism</th>\n",
              "      <th>r_promis</th>\n",
              "      <th>r_lovefamily</th>\n",
              "      <th>r_damaged</th>\n",
              "      <th>r_unitecommunity</th>\n",
              "      <th>...</th>\n",
              "      <th>j_takeneed</th>\n",
              "      <th>j_current_unfair</th>\n",
              "      <th>immigration_attitude</th>\n",
              "      <th>tendency_immigration</th>\n",
              "      <th>age</th>\n",
              "      <th>gender</th>\n",
              "      <th>education</th>\n",
              "      <th>last_degree</th>\n",
              "      <th>economic</th>\n",
              "      <th>religiosity</th>\n",
              "      <th>political</th>\n",
              "      <th>date</th>\n",
              "      <th>time</th>\n",
              "      <th>IP</th>\n",
              "      <th>duration</th>\n",
              "      <th>g_length</th>\n",
              "      <th>g_width</th>\n",
              "      <th>country</th>\n",
              "      <th>ID</th>\n",
              "      <th>qversion</th>\n",
              "      <th>system</th>\n",
              "      <th>browser</th>\n",
              "      <th>rvs_scen4_yesim</th>\n",
              "      <th>rvs_j_stealfood</th>\n",
              "      <th>rvs_j_keepitem</th>\n",
              "      <th>rvs_j_takeneed</th>\n",
              "      <th>img_family</th>\n",
              "      <th>img_group</th>\n",
              "      <th>img_Reciprocity</th>\n",
              "      <th>img_heroism</th>\n",
              "      <th>img_deference</th>\n",
              "      <th>img_fairness</th>\n",
              "      <th>img_property</th>\n",
              "      <th>mac_family</th>\n",
              "      <th>mac_group</th>\n",
              "      <th>mac_reciprocity</th>\n",
              "      <th>mac_heroism</th>\n",
              "      <th>mac_deference</th>\n",
              "      <th>mac_fairness</th>\n",
              "      <th>mac_property</th>\n",
              "    </tr>\n",
              "  </thead>\n",
              "  <tbody>\n",
              "    <tr>\n",
              "      <th>0</th>\n",
              "      <td>1</td>\n",
              "      <td>7.0</td>\n",
              "      <td>1.0</td>\n",
              "      <td>2.0</td>\n",
              "      <td>6.0</td>\n",
              "      <td>2.0</td>\n",
              "      <td>6.0</td>\n",
              "      <td>2.0</td>\n",
              "      <td>5.0</td>\n",
              "      <td>3.0</td>\n",
              "      <td>4.0</td>\n",
              "      <td>5.0</td>\n",
              "      <td>3.0</td>\n",
              "      <td>3.0</td>\n",
              "      <td>3.0</td>\n",
              "      <td>6.0</td>\n",
              "      <td>5.0</td>\n",
              "      <td>3.0</td>\n",
              "      <td>5.0</td>\n",
              "      <td>7.0</td>\n",
              "      <td>2.0</td>\n",
              "      <td>2.0</td>\n",
              "      <td>3.0</td>\n",
              "      <td>1.0</td>\n",
              "      <td>5.0</td>\n",
              "      <td>5.0</td>\n",
              "      <td>3.0</td>\n",
              "      <td>5.0</td>\n",
              "      <td>5.0</td>\n",
              "      <td>4.0</td>\n",
              "      <td>5.0</td>\n",
              "      <td>5.0</td>\n",
              "      <td>4.0</td>\n",
              "      <td>5.0</td>\n",
              "      <td>5</td>\n",
              "      <td>3</td>\n",
              "      <td>5</td>\n",
              "      <td>4</td>\n",
              "      <td>5.0</td>\n",
              "      <td>1</td>\n",
              "      <td>...</td>\n",
              "      <td>1.0</td>\n",
              "      <td>5.0</td>\n",
              "      <td>6.0</td>\n",
              "      <td>5.0</td>\n",
              "      <td>21.0</td>\n",
              "      <td>1.0</td>\n",
              "      <td>3.0</td>\n",
              "      <td>NaN</td>\n",
              "      <td>4.0</td>\n",
              "      <td>2.0</td>\n",
              "      <td>5.0</td>\n",
              "      <td>1399/08/09</td>\n",
              "      <td>12:57:00</td>\n",
              "      <td>107.191.49.234</td>\n",
              "      <td>00:12:21</td>\n",
              "      <td>-87.9620</td>\n",
              "      <td>41.9943</td>\n",
              "      <td>US</td>\n",
              "      <td>379770</td>\n",
              "      <td>110</td>\n",
              "      <td>Mozilla/5.0 (Linux; Android 9; Nokia 6.2) Appl...</td>\n",
              "      <td>Chrome - 74.0</td>\n",
              "      <td>6.0</td>\n",
              "      <td>3.0</td>\n",
              "      <td>5</td>\n",
              "      <td>4.0</td>\n",
              "      <td>3.5</td>\n",
              "      <td>4.00</td>\n",
              "      <td>5.67</td>\n",
              "      <td>4.0</td>\n",
              "      <td>2.0</td>\n",
              "      <td>5.00</td>\n",
              "      <td>3.50</td>\n",
              "      <td>3.50</td>\n",
              "      <td>3.17</td>\n",
              "      <td>4.83</td>\n",
              "      <td>2.83</td>\n",
              "      <td>1.83</td>\n",
              "      <td>3.00</td>\n",
              "      <td>4.50</td>\n",
              "    </tr>\n",
              "    <tr>\n",
              "      <th>1</th>\n",
              "      <td>2</td>\n",
              "      <td>7.0</td>\n",
              "      <td>1.0</td>\n",
              "      <td>2.0</td>\n",
              "      <td>6.0</td>\n",
              "      <td>4.0</td>\n",
              "      <td>4.0</td>\n",
              "      <td>4.0</td>\n",
              "      <td>5.0</td>\n",
              "      <td>6.0</td>\n",
              "      <td>4.0</td>\n",
              "      <td>5.0</td>\n",
              "      <td>3.0</td>\n",
              "      <td>4.0</td>\n",
              "      <td>4.0</td>\n",
              "      <td>3.0</td>\n",
              "      <td>6.0</td>\n",
              "      <td>7.0</td>\n",
              "      <td>1.0</td>\n",
              "      <td>7.0</td>\n",
              "      <td>1.0</td>\n",
              "      <td>3.0</td>\n",
              "      <td>3.0</td>\n",
              "      <td>2.0</td>\n",
              "      <td>4.0</td>\n",
              "      <td>3.0</td>\n",
              "      <td>3.0</td>\n",
              "      <td>4.0</td>\n",
              "      <td>3.0</td>\n",
              "      <td>4.0</td>\n",
              "      <td>4.0</td>\n",
              "      <td>4.0</td>\n",
              "      <td>3.0</td>\n",
              "      <td>3.0</td>\n",
              "      <td>5</td>\n",
              "      <td>5</td>\n",
              "      <td>4</td>\n",
              "      <td>3</td>\n",
              "      <td>4.0</td>\n",
              "      <td>3</td>\n",
              "      <td>...</td>\n",
              "      <td>0.0</td>\n",
              "      <td>4.0</td>\n",
              "      <td>6.0</td>\n",
              "      <td>4.0</td>\n",
              "      <td>23.0</td>\n",
              "      <td>1.0</td>\n",
              "      <td>3.0</td>\n",
              "      <td>NaN</td>\n",
              "      <td>4.0</td>\n",
              "      <td>3.0</td>\n",
              "      <td>3.0</td>\n",
              "      <td>1399/08/09</td>\n",
              "      <td>13:28:00</td>\n",
              "      <td>37.98.63.243</td>\n",
              "      <td>00:15:37</td>\n",
              "      <td>51.5314</td>\n",
              "      <td>35.7555</td>\n",
              "      <td>IR</td>\n",
              "      <td>379776</td>\n",
              "      <td>110</td>\n",
              "      <td>Mozilla/5.0 (iPhone; CPU iPhone OS 13_6_1 like...</td>\n",
              "      <td>Safari - 13.1</td>\n",
              "      <td>4.0</td>\n",
              "      <td>4.0</td>\n",
              "      <td>5</td>\n",
              "      <td>5.0</td>\n",
              "      <td>4.0</td>\n",
              "      <td>3.50</td>\n",
              "      <td>7.00</td>\n",
              "      <td>2.0</td>\n",
              "      <td>4.0</td>\n",
              "      <td>4.00</td>\n",
              "      <td>4.25</td>\n",
              "      <td>3.33</td>\n",
              "      <td>3.00</td>\n",
              "      <td>3.83</td>\n",
              "      <td>2.67</td>\n",
              "      <td>2.67</td>\n",
              "      <td>3.67</td>\n",
              "      <td>4.50</td>\n",
              "    </tr>\n",
              "    <tr>\n",
              "      <th>2</th>\n",
              "      <td>3</td>\n",
              "      <td>3.0</td>\n",
              "      <td>4.0</td>\n",
              "      <td>2.0</td>\n",
              "      <td>5.0</td>\n",
              "      <td>2.0</td>\n",
              "      <td>5.0</td>\n",
              "      <td>3.0</td>\n",
              "      <td>5.0</td>\n",
              "      <td>2.0</td>\n",
              "      <td>6.0</td>\n",
              "      <td>3.0</td>\n",
              "      <td>3.0</td>\n",
              "      <td>1.0</td>\n",
              "      <td>3.0</td>\n",
              "      <td>2.0</td>\n",
              "      <td>3.0</td>\n",
              "      <td>1.0</td>\n",
              "      <td>6.0</td>\n",
              "      <td>5.0</td>\n",
              "      <td>2.0</td>\n",
              "      <td>3.0</td>\n",
              "      <td>3.0</td>\n",
              "      <td>3.0</td>\n",
              "      <td>4.0</td>\n",
              "      <td>4.0</td>\n",
              "      <td>3.0</td>\n",
              "      <td>5.0</td>\n",
              "      <td>4.0</td>\n",
              "      <td>3.0</td>\n",
              "      <td>5.0</td>\n",
              "      <td>5.0</td>\n",
              "      <td>4.0</td>\n",
              "      <td>3.0</td>\n",
              "      <td>5</td>\n",
              "      <td>3</td>\n",
              "      <td>4</td>\n",
              "      <td>4</td>\n",
              "      <td>5.0</td>\n",
              "      <td>3</td>\n",
              "      <td>...</td>\n",
              "      <td>0.0</td>\n",
              "      <td>4.0</td>\n",
              "      <td>3.0</td>\n",
              "      <td>2.0</td>\n",
              "      <td>20.0</td>\n",
              "      <td>1.0</td>\n",
              "      <td>3.0</td>\n",
              "      <td>NaN</td>\n",
              "      <td>3.0</td>\n",
              "      <td>4.0</td>\n",
              "      <td>2.0</td>\n",
              "      <td>1399/08/09</td>\n",
              "      <td>13:35:00</td>\n",
              "      <td>178.131.24.71</td>\n",
              "      <td>00:12:27</td>\n",
              "      <td>51.5314</td>\n",
              "      <td>35.7555</td>\n",
              "      <td>IR</td>\n",
              "      <td>379779</td>\n",
              "      <td>111</td>\n",
              "      <td>Mozilla/5.0 (Linux; Android 10; SAMSUNG SM-A70...</td>\n",
              "      <td>Chrome - 79.0</td>\n",
              "      <td>5.0</td>\n",
              "      <td>5.0</td>\n",
              "      <td>5</td>\n",
              "      <td>5.0</td>\n",
              "      <td>2.5</td>\n",
              "      <td>5.00</td>\n",
              "      <td>3.00</td>\n",
              "      <td>4.5</td>\n",
              "      <td>2.0</td>\n",
              "      <td>3.25</td>\n",
              "      <td>2.50</td>\n",
              "      <td>3.83</td>\n",
              "      <td>3.17</td>\n",
              "      <td>3.67</td>\n",
              "      <td>4.67</td>\n",
              "      <td>3.33</td>\n",
              "      <td>3.33</td>\n",
              "      <td>5.00</td>\n",
              "    </tr>\n",
              "    <tr>\n",
              "      <th>3</th>\n",
              "      <td>4</td>\n",
              "      <td>7.0</td>\n",
              "      <td>4.0</td>\n",
              "      <td>2.0</td>\n",
              "      <td>6.0</td>\n",
              "      <td>5.0</td>\n",
              "      <td>5.0</td>\n",
              "      <td>6.0</td>\n",
              "      <td>3.0</td>\n",
              "      <td>5.0</td>\n",
              "      <td>4.0</td>\n",
              "      <td>5.0</td>\n",
              "      <td>6.0</td>\n",
              "      <td>5.0</td>\n",
              "      <td>2.0</td>\n",
              "      <td>6.0</td>\n",
              "      <td>4.0</td>\n",
              "      <td>6.0</td>\n",
              "      <td>4.0</td>\n",
              "      <td>4.0</td>\n",
              "      <td>1.0</td>\n",
              "      <td>3.0</td>\n",
              "      <td>2.0</td>\n",
              "      <td>3.0</td>\n",
              "      <td>5.0</td>\n",
              "      <td>4.0</td>\n",
              "      <td>2.0</td>\n",
              "      <td>5.0</td>\n",
              "      <td>3.0</td>\n",
              "      <td>3.0</td>\n",
              "      <td>4.0</td>\n",
              "      <td>5.0</td>\n",
              "      <td>2.0</td>\n",
              "      <td>2.0</td>\n",
              "      <td>5</td>\n",
              "      <td>3</td>\n",
              "      <td>5</td>\n",
              "      <td>3</td>\n",
              "      <td>4.0</td>\n",
              "      <td>3</td>\n",
              "      <td>...</td>\n",
              "      <td>0.0</td>\n",
              "      <td>4.0</td>\n",
              "      <td>5.0</td>\n",
              "      <td>4.0</td>\n",
              "      <td>16.0</td>\n",
              "      <td>1.0</td>\n",
              "      <td>3.0</td>\n",
              "      <td>NaN</td>\n",
              "      <td>2.0</td>\n",
              "      <td>3.0</td>\n",
              "      <td>3.0</td>\n",
              "      <td>1399/08/09</td>\n",
              "      <td>13:41:00</td>\n",
              "      <td>37.148.30.141</td>\n",
              "      <td>00:13:02</td>\n",
              "      <td>51.4361</td>\n",
              "      <td>35.7838</td>\n",
              "      <td>IR</td>\n",
              "      <td>379781</td>\n",
              "      <td>111</td>\n",
              "      <td>Mozilla/5.0 (Linux; Android 8.0.0; SM-A720F) A...</td>\n",
              "      <td>Chrome - 80.0</td>\n",
              "      <td>2.0</td>\n",
              "      <td>3.0</td>\n",
              "      <td>5</td>\n",
              "      <td>5.0</td>\n",
              "      <td>3.0</td>\n",
              "      <td>3.25</td>\n",
              "      <td>5.67</td>\n",
              "      <td>5.0</td>\n",
              "      <td>5.0</td>\n",
              "      <td>4.50</td>\n",
              "      <td>4.25</td>\n",
              "      <td>3.50</td>\n",
              "      <td>2.67</td>\n",
              "      <td>4.83</td>\n",
              "      <td>3.83</td>\n",
              "      <td>2.33</td>\n",
              "      <td>3.33</td>\n",
              "      <td>4.50</td>\n",
              "    </tr>\n",
              "    <tr>\n",
              "      <th>4</th>\n",
              "      <td>5</td>\n",
              "      <td>7.0</td>\n",
              "      <td>1.0</td>\n",
              "      <td>3.0</td>\n",
              "      <td>3.0</td>\n",
              "      <td>2.0</td>\n",
              "      <td>6.0</td>\n",
              "      <td>2.0</td>\n",
              "      <td>5.0</td>\n",
              "      <td>6.0</td>\n",
              "      <td>2.0</td>\n",
              "      <td>4.0</td>\n",
              "      <td>4.0</td>\n",
              "      <td>1.0</td>\n",
              "      <td>6.0</td>\n",
              "      <td>1.0</td>\n",
              "      <td>7.0</td>\n",
              "      <td>7.0</td>\n",
              "      <td>1.0</td>\n",
              "      <td>3.0</td>\n",
              "      <td>5.0</td>\n",
              "      <td>2.0</td>\n",
              "      <td>4.0</td>\n",
              "      <td>4.0</td>\n",
              "      <td>5.0</td>\n",
              "      <td>5.0</td>\n",
              "      <td>1.0</td>\n",
              "      <td>5.0</td>\n",
              "      <td>5.0</td>\n",
              "      <td>5.0</td>\n",
              "      <td>4.0</td>\n",
              "      <td>5.0</td>\n",
              "      <td>3.0</td>\n",
              "      <td>4.0</td>\n",
              "      <td>5</td>\n",
              "      <td>5</td>\n",
              "      <td>5</td>\n",
              "      <td>4</td>\n",
              "      <td>5.0</td>\n",
              "      <td>3</td>\n",
              "      <td>...</td>\n",
              "      <td>0.0</td>\n",
              "      <td>5.0</td>\n",
              "      <td>4.0</td>\n",
              "      <td>1.0</td>\n",
              "      <td>21.0</td>\n",
              "      <td>1.0</td>\n",
              "      <td>3.0</td>\n",
              "      <td>NaN</td>\n",
              "      <td>NaN</td>\n",
              "      <td>3.0</td>\n",
              "      <td>NaN</td>\n",
              "      <td>1399/08/09</td>\n",
              "      <td>13:55:00</td>\n",
              "      <td>89.198.224.28</td>\n",
              "      <td>00:10:06</td>\n",
              "      <td>0.0000</td>\n",
              "      <td>0.0000</td>\n",
              "      <td>No</td>\n",
              "      <td>379787</td>\n",
              "      <td>111</td>\n",
              "      <td>Mozilla/5.0 (Linux; Android 10; SM-N975F) Appl...</td>\n",
              "      <td>Chrome - 86.0</td>\n",
              "      <td>6.0</td>\n",
              "      <td>3.0</td>\n",
              "      <td>5</td>\n",
              "      <td>5.0</td>\n",
              "      <td>5.0</td>\n",
              "      <td>3.50</td>\n",
              "      <td>5.67</td>\n",
              "      <td>2.5</td>\n",
              "      <td>2.0</td>\n",
              "      <td>4.25</td>\n",
              "      <td>3.75</td>\n",
              "      <td>4.83</td>\n",
              "      <td>4.00</td>\n",
              "      <td>4.83</td>\n",
              "      <td>3.83</td>\n",
              "      <td>2.67</td>\n",
              "      <td>3.67</td>\n",
              "      <td>4.67</td>\n",
              "    </tr>\n",
              "  </tbody>\n",
              "</table>\n",
              "<p>5 rows × 101 columns</p>\n",
              "</div>"
            ],
            "text/plain": [
              "   scode  scen1_yesim  scen1_noim  ...  mac_deference  mac_fairness  mac_property\n",
              "0      1          7.0         1.0  ...           1.83          3.00          4.50\n",
              "1      2          7.0         1.0  ...           2.67          3.67          4.50\n",
              "2      3          3.0         4.0  ...           3.33          3.33          5.00\n",
              "3      4          7.0         4.0  ...           2.33          3.33          4.50\n",
              "4      5          7.0         1.0  ...           2.67          3.67          4.67\n",
              "\n",
              "[5 rows x 101 columns]"
            ]
          },
          "metadata": {
            "tags": []
          },
          "execution_count": 3
        }
      ]
    },
    {
      "cell_type": "code",
      "metadata": {
        "id": "d-4kdyTkscsj",
        "colab": {
          "base_uri": "https://localhost:8080/"
        },
        "outputId": "5cb55b15-2675-4efb-9f6a-28ffa5550574"
      },
      "source": [
        "df.shape"
      ],
      "execution_count": null,
      "outputs": [
        {
          "output_type": "execute_result",
          "data": {
            "text/plain": [
              "(334, 101)"
            ]
          },
          "metadata": {
            "tags": []
          },
          "execution_count": 4
        }
      ]
    },
    {
      "cell_type": "markdown",
      "metadata": {
        "id": "75ZHL1OBu_5u"
      },
      "source": [
        "# Data cleaning"
      ]
    },
    {
      "cell_type": "markdown",
      "metadata": {
        "id": "Ip1QOFfducjf"
      },
      "source": [
        "## Select specific columns"
      ]
    },
    {
      "cell_type": "code",
      "metadata": {
        "id": "9DXKe014sf1f",
        "colab": {
          "base_uri": "https://localhost:8080/"
        },
        "outputId": "0061e856-f0f7-476d-ec71-2b97a44a1288"
      },
      "source": [
        "df = df.drop(df.iloc[:,:63], axis=1)\n",
        "df = df.drop(df.iloc[:,9:24], axis=1)\n",
        "# df.drop(['political'], axis=1, inplace=True)\n",
        "df.head(5)"
      ],
      "execution_count": null,
      "outputs": [
        {
          "output_type": "execute_result",
          "data": {
            "text/html": [
              "<div>\n",
              "<style scoped>\n",
              "    .dataframe tbody tr th:only-of-type {\n",
              "        vertical-align: middle;\n",
              "    }\n",
              "\n",
              "    .dataframe tbody tr th {\n",
              "        vertical-align: top;\n",
              "    }\n",
              "\n",
              "    .dataframe thead th {\n",
              "        text-align: right;\n",
              "    }\n",
              "</style>\n",
              "<table border=\"1\" class=\"dataframe\">\n",
              "  <thead>\n",
              "    <tr style=\"text-align: right;\">\n",
              "      <th></th>\n",
              "      <th>immigration_attitude</th>\n",
              "      <th>tendency_immigration</th>\n",
              "      <th>age</th>\n",
              "      <th>gender</th>\n",
              "      <th>education</th>\n",
              "      <th>last_degree</th>\n",
              "      <th>economic</th>\n",
              "      <th>religiosity</th>\n",
              "      <th>political</th>\n",
              "      <th>img_family</th>\n",
              "      <th>img_group</th>\n",
              "      <th>img_Reciprocity</th>\n",
              "      <th>img_heroism</th>\n",
              "      <th>img_deference</th>\n",
              "      <th>img_fairness</th>\n",
              "      <th>img_property</th>\n",
              "      <th>mac_family</th>\n",
              "      <th>mac_group</th>\n",
              "      <th>mac_reciprocity</th>\n",
              "      <th>mac_heroism</th>\n",
              "      <th>mac_deference</th>\n",
              "      <th>mac_fairness</th>\n",
              "      <th>mac_property</th>\n",
              "    </tr>\n",
              "  </thead>\n",
              "  <tbody>\n",
              "    <tr>\n",
              "      <th>0</th>\n",
              "      <td>6.0</td>\n",
              "      <td>5.0</td>\n",
              "      <td>21.0</td>\n",
              "      <td>1.0</td>\n",
              "      <td>3.0</td>\n",
              "      <td>NaN</td>\n",
              "      <td>4.0</td>\n",
              "      <td>2.0</td>\n",
              "      <td>5.0</td>\n",
              "      <td>3.5</td>\n",
              "      <td>4.00</td>\n",
              "      <td>5.67</td>\n",
              "      <td>4.0</td>\n",
              "      <td>2.0</td>\n",
              "      <td>5.00</td>\n",
              "      <td>3.50</td>\n",
              "      <td>3.50</td>\n",
              "      <td>3.17</td>\n",
              "      <td>4.83</td>\n",
              "      <td>2.83</td>\n",
              "      <td>1.83</td>\n",
              "      <td>3.00</td>\n",
              "      <td>4.50</td>\n",
              "    </tr>\n",
              "    <tr>\n",
              "      <th>1</th>\n",
              "      <td>6.0</td>\n",
              "      <td>4.0</td>\n",
              "      <td>23.0</td>\n",
              "      <td>1.0</td>\n",
              "      <td>3.0</td>\n",
              "      <td>NaN</td>\n",
              "      <td>4.0</td>\n",
              "      <td>3.0</td>\n",
              "      <td>3.0</td>\n",
              "      <td>4.0</td>\n",
              "      <td>3.50</td>\n",
              "      <td>7.00</td>\n",
              "      <td>2.0</td>\n",
              "      <td>4.0</td>\n",
              "      <td>4.00</td>\n",
              "      <td>4.25</td>\n",
              "      <td>3.33</td>\n",
              "      <td>3.00</td>\n",
              "      <td>3.83</td>\n",
              "      <td>2.67</td>\n",
              "      <td>2.67</td>\n",
              "      <td>3.67</td>\n",
              "      <td>4.50</td>\n",
              "    </tr>\n",
              "    <tr>\n",
              "      <th>2</th>\n",
              "      <td>3.0</td>\n",
              "      <td>2.0</td>\n",
              "      <td>20.0</td>\n",
              "      <td>1.0</td>\n",
              "      <td>3.0</td>\n",
              "      <td>NaN</td>\n",
              "      <td>3.0</td>\n",
              "      <td>4.0</td>\n",
              "      <td>2.0</td>\n",
              "      <td>2.5</td>\n",
              "      <td>5.00</td>\n",
              "      <td>3.00</td>\n",
              "      <td>4.5</td>\n",
              "      <td>2.0</td>\n",
              "      <td>3.25</td>\n",
              "      <td>2.50</td>\n",
              "      <td>3.83</td>\n",
              "      <td>3.17</td>\n",
              "      <td>3.67</td>\n",
              "      <td>4.67</td>\n",
              "      <td>3.33</td>\n",
              "      <td>3.33</td>\n",
              "      <td>5.00</td>\n",
              "    </tr>\n",
              "    <tr>\n",
              "      <th>3</th>\n",
              "      <td>5.0</td>\n",
              "      <td>4.0</td>\n",
              "      <td>16.0</td>\n",
              "      <td>1.0</td>\n",
              "      <td>3.0</td>\n",
              "      <td>NaN</td>\n",
              "      <td>2.0</td>\n",
              "      <td>3.0</td>\n",
              "      <td>3.0</td>\n",
              "      <td>3.0</td>\n",
              "      <td>3.25</td>\n",
              "      <td>5.67</td>\n",
              "      <td>5.0</td>\n",
              "      <td>5.0</td>\n",
              "      <td>4.50</td>\n",
              "      <td>4.25</td>\n",
              "      <td>3.50</td>\n",
              "      <td>2.67</td>\n",
              "      <td>4.83</td>\n",
              "      <td>3.83</td>\n",
              "      <td>2.33</td>\n",
              "      <td>3.33</td>\n",
              "      <td>4.50</td>\n",
              "    </tr>\n",
              "    <tr>\n",
              "      <th>4</th>\n",
              "      <td>4.0</td>\n",
              "      <td>1.0</td>\n",
              "      <td>21.0</td>\n",
              "      <td>1.0</td>\n",
              "      <td>3.0</td>\n",
              "      <td>NaN</td>\n",
              "      <td>NaN</td>\n",
              "      <td>3.0</td>\n",
              "      <td>NaN</td>\n",
              "      <td>5.0</td>\n",
              "      <td>3.50</td>\n",
              "      <td>5.67</td>\n",
              "      <td>2.5</td>\n",
              "      <td>2.0</td>\n",
              "      <td>4.25</td>\n",
              "      <td>3.75</td>\n",
              "      <td>4.83</td>\n",
              "      <td>4.00</td>\n",
              "      <td>4.83</td>\n",
              "      <td>3.83</td>\n",
              "      <td>2.67</td>\n",
              "      <td>3.67</td>\n",
              "      <td>4.67</td>\n",
              "    </tr>\n",
              "  </tbody>\n",
              "</table>\n",
              "</div>"
            ],
            "text/plain": [
              "   immigration_attitude  tendency_immigration  ...  mac_fairness  mac_property\n",
              "0                   6.0                   5.0  ...          3.00          4.50\n",
              "1                   6.0                   4.0  ...          3.67          4.50\n",
              "2                   3.0                   2.0  ...          3.33          5.00\n",
              "3                   5.0                   4.0  ...          3.33          4.50\n",
              "4                   4.0                   1.0  ...          3.67          4.67\n",
              "\n",
              "[5 rows x 23 columns]"
            ]
          },
          "metadata": {
            "tags": []
          },
          "execution_count": 5
        }
      ]
    },
    {
      "cell_type": "code",
      "metadata": {
        "colab": {
          "base_uri": "https://localhost:8080/"
        },
        "id": "Ep5_JH783mlo",
        "outputId": "d98cbf9c-97de-4b5b-b9fb-20cacca05771"
      },
      "source": [
        "df.shape"
      ],
      "execution_count": null,
      "outputs": [
        {
          "output_type": "execute_result",
          "data": {
            "text/plain": [
              "(334, 23)"
            ]
          },
          "metadata": {
            "tags": []
          },
          "execution_count": 6
        }
      ]
    },
    {
      "cell_type": "markdown",
      "metadata": {
        "id": "MUIesEwHvoeF"
      },
      "source": [
        "Merge 'education' and 'last_degree' columns:"
      ]
    },
    {
      "cell_type": "code",
      "metadata": {
        "id": "02hQUrkEyVlR",
        "colab": {
          "base_uri": "https://localhost:8080/"
        },
        "outputId": "069d0cf9-0ffd-441a-d6b6-97708172b3e9"
      },
      "source": [
        "nan_edu = df[df['education'].isnull()]\n",
        "nan_edu['last_degree'].isnull().sum()"
      ],
      "execution_count": null,
      "outputs": [
        {
          "output_type": "execute_result",
          "data": {
            "text/plain": [
              "2"
            ]
          },
          "metadata": {
            "tags": []
          },
          "execution_count": 7
        }
      ]
    },
    {
      "cell_type": "markdown",
      "metadata": {
        "id": "0vDC92AZ0xTl"
      },
      "source": [
        "There is only 2 rows that have NAN education and last_degree. So we can eliminate these two rows:"
      ]
    },
    {
      "cell_type": "code",
      "metadata": {
        "id": "eNYRv2SP1AxW",
        "colab": {
          "base_uri": "https://localhost:8080/"
        },
        "outputId": "0f82d1d1-afd8-42de-ffb3-cafb66789d53"
      },
      "source": [
        "nan_edu_deg = nan_edu[nan_edu['last_degree'].isnull()]\n",
        "df = df.drop(nan_edu_deg.index, axis=0)\n",
        "df.shape"
      ],
      "execution_count": null,
      "outputs": [
        {
          "output_type": "execute_result",
          "data": {
            "text/plain": [
              "(332, 23)"
            ]
          },
          "metadata": {
            "tags": []
          },
          "execution_count": 8
        }
      ]
    },
    {
      "cell_type": "code",
      "metadata": {
        "id": "TsBicziG2zC3",
        "colab": {
          "base_uri": "https://localhost:8080/"
        },
        "outputId": "8aff2d32-e99a-4dad-ad6a-f6caa308ae8f"
      },
      "source": [
        "# make sure there is not any row with this condition anymore\n",
        "nan_edu = df[df['education'].isnull()]\n",
        "nan_edu['last_degree'].isnull().sum()"
      ],
      "execution_count": null,
      "outputs": [
        {
          "output_type": "execute_result",
          "data": {
            "text/plain": [
              "0"
            ]
          },
          "metadata": {
            "tags": []
          },
          "execution_count": 9
        }
      ]
    },
    {
      "cell_type": "code",
      "metadata": {
        "id": "Hs75nRPG3_ia",
        "colab": {
          "base_uri": "https://localhost:8080/"
        },
        "outputId": "9ad087f5-2109-4ced-f7aa-313a5941eec8"
      },
      "source": [
        "df.head(20)"
      ],
      "execution_count": null,
      "outputs": [
        {
          "output_type": "execute_result",
          "data": {
            "text/html": [
              "<div>\n",
              "<style scoped>\n",
              "    .dataframe tbody tr th:only-of-type {\n",
              "        vertical-align: middle;\n",
              "    }\n",
              "\n",
              "    .dataframe tbody tr th {\n",
              "        vertical-align: top;\n",
              "    }\n",
              "\n",
              "    .dataframe thead th {\n",
              "        text-align: right;\n",
              "    }\n",
              "</style>\n",
              "<table border=\"1\" class=\"dataframe\">\n",
              "  <thead>\n",
              "    <tr style=\"text-align: right;\">\n",
              "      <th></th>\n",
              "      <th>immigration_attitude</th>\n",
              "      <th>tendency_immigration</th>\n",
              "      <th>age</th>\n",
              "      <th>gender</th>\n",
              "      <th>education</th>\n",
              "      <th>last_degree</th>\n",
              "      <th>economic</th>\n",
              "      <th>religiosity</th>\n",
              "      <th>political</th>\n",
              "      <th>img_family</th>\n",
              "      <th>img_group</th>\n",
              "      <th>img_Reciprocity</th>\n",
              "      <th>img_heroism</th>\n",
              "      <th>img_deference</th>\n",
              "      <th>img_fairness</th>\n",
              "      <th>img_property</th>\n",
              "      <th>mac_family</th>\n",
              "      <th>mac_group</th>\n",
              "      <th>mac_reciprocity</th>\n",
              "      <th>mac_heroism</th>\n",
              "      <th>mac_deference</th>\n",
              "      <th>mac_fairness</th>\n",
              "      <th>mac_property</th>\n",
              "    </tr>\n",
              "  </thead>\n",
              "  <tbody>\n",
              "    <tr>\n",
              "      <th>0</th>\n",
              "      <td>6.0</td>\n",
              "      <td>5.0</td>\n",
              "      <td>21.0</td>\n",
              "      <td>1.0</td>\n",
              "      <td>3.0</td>\n",
              "      <td>NaN</td>\n",
              "      <td>4.0</td>\n",
              "      <td>2.0</td>\n",
              "      <td>5.0</td>\n",
              "      <td>3.5</td>\n",
              "      <td>4.00</td>\n",
              "      <td>5.67</td>\n",
              "      <td>4.0</td>\n",
              "      <td>2.0</td>\n",
              "      <td>5.00</td>\n",
              "      <td>3.50</td>\n",
              "      <td>3.50</td>\n",
              "      <td>3.17</td>\n",
              "      <td>4.83</td>\n",
              "      <td>2.83</td>\n",
              "      <td>1.83</td>\n",
              "      <td>3.00</td>\n",
              "      <td>4.50</td>\n",
              "    </tr>\n",
              "    <tr>\n",
              "      <th>1</th>\n",
              "      <td>6.0</td>\n",
              "      <td>4.0</td>\n",
              "      <td>23.0</td>\n",
              "      <td>1.0</td>\n",
              "      <td>3.0</td>\n",
              "      <td>NaN</td>\n",
              "      <td>4.0</td>\n",
              "      <td>3.0</td>\n",
              "      <td>3.0</td>\n",
              "      <td>4.0</td>\n",
              "      <td>3.50</td>\n",
              "      <td>7.00</td>\n",
              "      <td>2.0</td>\n",
              "      <td>4.0</td>\n",
              "      <td>4.00</td>\n",
              "      <td>4.25</td>\n",
              "      <td>3.33</td>\n",
              "      <td>3.00</td>\n",
              "      <td>3.83</td>\n",
              "      <td>2.67</td>\n",
              "      <td>2.67</td>\n",
              "      <td>3.67</td>\n",
              "      <td>4.50</td>\n",
              "    </tr>\n",
              "    <tr>\n",
              "      <th>2</th>\n",
              "      <td>3.0</td>\n",
              "      <td>2.0</td>\n",
              "      <td>20.0</td>\n",
              "      <td>1.0</td>\n",
              "      <td>3.0</td>\n",
              "      <td>NaN</td>\n",
              "      <td>3.0</td>\n",
              "      <td>4.0</td>\n",
              "      <td>2.0</td>\n",
              "      <td>2.5</td>\n",
              "      <td>5.00</td>\n",
              "      <td>3.00</td>\n",
              "      <td>4.5</td>\n",
              "      <td>2.0</td>\n",
              "      <td>3.25</td>\n",
              "      <td>2.50</td>\n",
              "      <td>3.83</td>\n",
              "      <td>3.17</td>\n",
              "      <td>3.67</td>\n",
              "      <td>4.67</td>\n",
              "      <td>3.33</td>\n",
              "      <td>3.33</td>\n",
              "      <td>5.00</td>\n",
              "    </tr>\n",
              "    <tr>\n",
              "      <th>3</th>\n",
              "      <td>5.0</td>\n",
              "      <td>4.0</td>\n",
              "      <td>16.0</td>\n",
              "      <td>1.0</td>\n",
              "      <td>3.0</td>\n",
              "      <td>NaN</td>\n",
              "      <td>2.0</td>\n",
              "      <td>3.0</td>\n",
              "      <td>3.0</td>\n",
              "      <td>3.0</td>\n",
              "      <td>3.25</td>\n",
              "      <td>5.67</td>\n",
              "      <td>5.0</td>\n",
              "      <td>5.0</td>\n",
              "      <td>4.50</td>\n",
              "      <td>4.25</td>\n",
              "      <td>3.50</td>\n",
              "      <td>2.67</td>\n",
              "      <td>4.83</td>\n",
              "      <td>3.83</td>\n",
              "      <td>2.33</td>\n",
              "      <td>3.33</td>\n",
              "      <td>4.50</td>\n",
              "    </tr>\n",
              "    <tr>\n",
              "      <th>4</th>\n",
              "      <td>4.0</td>\n",
              "      <td>1.0</td>\n",
              "      <td>21.0</td>\n",
              "      <td>1.0</td>\n",
              "      <td>3.0</td>\n",
              "      <td>NaN</td>\n",
              "      <td>NaN</td>\n",
              "      <td>3.0</td>\n",
              "      <td>NaN</td>\n",
              "      <td>5.0</td>\n",
              "      <td>3.50</td>\n",
              "      <td>5.67</td>\n",
              "      <td>2.5</td>\n",
              "      <td>2.0</td>\n",
              "      <td>4.25</td>\n",
              "      <td>3.75</td>\n",
              "      <td>4.83</td>\n",
              "      <td>4.00</td>\n",
              "      <td>4.83</td>\n",
              "      <td>3.83</td>\n",
              "      <td>2.67</td>\n",
              "      <td>3.67</td>\n",
              "      <td>4.67</td>\n",
              "    </tr>\n",
              "    <tr>\n",
              "      <th>5</th>\n",
              "      <td>7.0</td>\n",
              "      <td>4.0</td>\n",
              "      <td>20.0</td>\n",
              "      <td>1.0</td>\n",
              "      <td>3.0</td>\n",
              "      <td>NaN</td>\n",
              "      <td>3.0</td>\n",
              "      <td>3.0</td>\n",
              "      <td>3.0</td>\n",
              "      <td>NaN</td>\n",
              "      <td>2.00</td>\n",
              "      <td>6.00</td>\n",
              "      <td>5.0</td>\n",
              "      <td>NaN</td>\n",
              "      <td>5.67</td>\n",
              "      <td>7.00</td>\n",
              "      <td>3.00</td>\n",
              "      <td>2.17</td>\n",
              "      <td>3.00</td>\n",
              "      <td>2.50</td>\n",
              "      <td>2.67</td>\n",
              "      <td>4.33</td>\n",
              "      <td>3.67</td>\n",
              "    </tr>\n",
              "    <tr>\n",
              "      <th>6</th>\n",
              "      <td>6.0</td>\n",
              "      <td>5.0</td>\n",
              "      <td>25.0</td>\n",
              "      <td>1.0</td>\n",
              "      <td>4.0</td>\n",
              "      <td>NaN</td>\n",
              "      <td>4.0</td>\n",
              "      <td>3.0</td>\n",
              "      <td>3.0</td>\n",
              "      <td>3.0</td>\n",
              "      <td>4.75</td>\n",
              "      <td>7.00</td>\n",
              "      <td>5.0</td>\n",
              "      <td>3.0</td>\n",
              "      <td>3.00</td>\n",
              "      <td>4.25</td>\n",
              "      <td>4.83</td>\n",
              "      <td>4.17</td>\n",
              "      <td>4.83</td>\n",
              "      <td>4.50</td>\n",
              "      <td>2.83</td>\n",
              "      <td>4.83</td>\n",
              "      <td>4.83</td>\n",
              "    </tr>\n",
              "    <tr>\n",
              "      <th>7</th>\n",
              "      <td>6.0</td>\n",
              "      <td>5.0</td>\n",
              "      <td>22.0</td>\n",
              "      <td>1.0</td>\n",
              "      <td>3.0</td>\n",
              "      <td>NaN</td>\n",
              "      <td>3.0</td>\n",
              "      <td>3.0</td>\n",
              "      <td>3.0</td>\n",
              "      <td>2.5</td>\n",
              "      <td>2.50</td>\n",
              "      <td>6.33</td>\n",
              "      <td>5.0</td>\n",
              "      <td>3.0</td>\n",
              "      <td>5.00</td>\n",
              "      <td>4.00</td>\n",
              "      <td>2.83</td>\n",
              "      <td>4.17</td>\n",
              "      <td>4.33</td>\n",
              "      <td>3.33</td>\n",
              "      <td>2.00</td>\n",
              "      <td>4.33</td>\n",
              "      <td>3.33</td>\n",
              "    </tr>\n",
              "    <tr>\n",
              "      <th>8</th>\n",
              "      <td>7.0</td>\n",
              "      <td>5.0</td>\n",
              "      <td>21.0</td>\n",
              "      <td>1.0</td>\n",
              "      <td>2.0</td>\n",
              "      <td>NaN</td>\n",
              "      <td>3.0</td>\n",
              "      <td>2.0</td>\n",
              "      <td>5.0</td>\n",
              "      <td>3.5</td>\n",
              "      <td>2.50</td>\n",
              "      <td>7.00</td>\n",
              "      <td>4.0</td>\n",
              "      <td>1.0</td>\n",
              "      <td>4.25</td>\n",
              "      <td>4.25</td>\n",
              "      <td>4.50</td>\n",
              "      <td>4.67</td>\n",
              "      <td>4.67</td>\n",
              "      <td>4.50</td>\n",
              "      <td>2.67</td>\n",
              "      <td>4.67</td>\n",
              "      <td>5.00</td>\n",
              "    </tr>\n",
              "    <tr>\n",
              "      <th>9</th>\n",
              "      <td>5.0</td>\n",
              "      <td>3.0</td>\n",
              "      <td>22.0</td>\n",
              "      <td>2.0</td>\n",
              "      <td>3.0</td>\n",
              "      <td>NaN</td>\n",
              "      <td>3.0</td>\n",
              "      <td>3.0</td>\n",
              "      <td>3.0</td>\n",
              "      <td>1.5</td>\n",
              "      <td>4.25</td>\n",
              "      <td>7.00</td>\n",
              "      <td>4.0</td>\n",
              "      <td>2.0</td>\n",
              "      <td>4.75</td>\n",
              "      <td>4.75</td>\n",
              "      <td>3.83</td>\n",
              "      <td>3.33</td>\n",
              "      <td>4.67</td>\n",
              "      <td>2.17</td>\n",
              "      <td>1.33</td>\n",
              "      <td>3.83</td>\n",
              "      <td>4.67</td>\n",
              "    </tr>\n",
              "    <tr>\n",
              "      <th>10</th>\n",
              "      <td>6.0</td>\n",
              "      <td>4.0</td>\n",
              "      <td>21.0</td>\n",
              "      <td>1.0</td>\n",
              "      <td>3.0</td>\n",
              "      <td>NaN</td>\n",
              "      <td>5.0</td>\n",
              "      <td>3.0</td>\n",
              "      <td>5.0</td>\n",
              "      <td>3.5</td>\n",
              "      <td>2.00</td>\n",
              "      <td>7.00</td>\n",
              "      <td>1.5</td>\n",
              "      <td>4.0</td>\n",
              "      <td>5.50</td>\n",
              "      <td>4.00</td>\n",
              "      <td>3.17</td>\n",
              "      <td>4.17</td>\n",
              "      <td>3.83</td>\n",
              "      <td>3.83</td>\n",
              "      <td>0.67</td>\n",
              "      <td>4.50</td>\n",
              "      <td>3.67</td>\n",
              "    </tr>\n",
              "    <tr>\n",
              "      <th>11</th>\n",
              "      <td>7.0</td>\n",
              "      <td>5.0</td>\n",
              "      <td>21.0</td>\n",
              "      <td>1.0</td>\n",
              "      <td>3.0</td>\n",
              "      <td>NaN</td>\n",
              "      <td>4.0</td>\n",
              "      <td>1.0</td>\n",
              "      <td>NaN</td>\n",
              "      <td>3.5</td>\n",
              "      <td>1.50</td>\n",
              "      <td>6.00</td>\n",
              "      <td>1.5</td>\n",
              "      <td>4.0</td>\n",
              "      <td>4.00</td>\n",
              "      <td>5.25</td>\n",
              "      <td>2.50</td>\n",
              "      <td>2.83</td>\n",
              "      <td>3.00</td>\n",
              "      <td>2.00</td>\n",
              "      <td>2.17</td>\n",
              "      <td>3.33</td>\n",
              "      <td>3.83</td>\n",
              "    </tr>\n",
              "    <tr>\n",
              "      <th>12</th>\n",
              "      <td>6.0</td>\n",
              "      <td>6.0</td>\n",
              "      <td>21.0</td>\n",
              "      <td>1.0</td>\n",
              "      <td>3.0</td>\n",
              "      <td>NaN</td>\n",
              "      <td>3.0</td>\n",
              "      <td>1.0</td>\n",
              "      <td>3.0</td>\n",
              "      <td>2.5</td>\n",
              "      <td>2.25</td>\n",
              "      <td>6.00</td>\n",
              "      <td>2.5</td>\n",
              "      <td>5.0</td>\n",
              "      <td>3.75</td>\n",
              "      <td>5.50</td>\n",
              "      <td>3.50</td>\n",
              "      <td>3.40</td>\n",
              "      <td>4.33</td>\n",
              "      <td>3.00</td>\n",
              "      <td>1.17</td>\n",
              "      <td>3.83</td>\n",
              "      <td>4.33</td>\n",
              "    </tr>\n",
              "    <tr>\n",
              "      <th>13</th>\n",
              "      <td>4.0</td>\n",
              "      <td>2.0</td>\n",
              "      <td>21.0</td>\n",
              "      <td>1.0</td>\n",
              "      <td>3.0</td>\n",
              "      <td>NaN</td>\n",
              "      <td>4.0</td>\n",
              "      <td>4.0</td>\n",
              "      <td>3.0</td>\n",
              "      <td>4.0</td>\n",
              "      <td>4.75</td>\n",
              "      <td>4.33</td>\n",
              "      <td>5.5</td>\n",
              "      <td>2.0</td>\n",
              "      <td>3.25</td>\n",
              "      <td>4.33</td>\n",
              "      <td>2.83</td>\n",
              "      <td>4.33</td>\n",
              "      <td>3.50</td>\n",
              "      <td>4.33</td>\n",
              "      <td>3.33</td>\n",
              "      <td>3.17</td>\n",
              "      <td>4.50</td>\n",
              "    </tr>\n",
              "    <tr>\n",
              "      <th>14</th>\n",
              "      <td>6.0</td>\n",
              "      <td>5.0</td>\n",
              "      <td>23.0</td>\n",
              "      <td>1.0</td>\n",
              "      <td>3.0</td>\n",
              "      <td>NaN</td>\n",
              "      <td>3.0</td>\n",
              "      <td>3.0</td>\n",
              "      <td>5.0</td>\n",
              "      <td>1.5</td>\n",
              "      <td>3.00</td>\n",
              "      <td>6.00</td>\n",
              "      <td>2.5</td>\n",
              "      <td>3.0</td>\n",
              "      <td>5.50</td>\n",
              "      <td>5.75</td>\n",
              "      <td>2.50</td>\n",
              "      <td>2.67</td>\n",
              "      <td>3.67</td>\n",
              "      <td>2.67</td>\n",
              "      <td>1.50</td>\n",
              "      <td>3.83</td>\n",
              "      <td>4.00</td>\n",
              "    </tr>\n",
              "    <tr>\n",
              "      <th>15</th>\n",
              "      <td>5.0</td>\n",
              "      <td>3.0</td>\n",
              "      <td>22.0</td>\n",
              "      <td>1.0</td>\n",
              "      <td>3.0</td>\n",
              "      <td>NaN</td>\n",
              "      <td>3.0</td>\n",
              "      <td>3.0</td>\n",
              "      <td>3.0</td>\n",
              "      <td>4.0</td>\n",
              "      <td>4.00</td>\n",
              "      <td>4.33</td>\n",
              "      <td>3.5</td>\n",
              "      <td>2.0</td>\n",
              "      <td>3.25</td>\n",
              "      <td>4.00</td>\n",
              "      <td>3.17</td>\n",
              "      <td>4.17</td>\n",
              "      <td>3.83</td>\n",
              "      <td>3.67</td>\n",
              "      <td>2.50</td>\n",
              "      <td>4.00</td>\n",
              "      <td>4.17</td>\n",
              "    </tr>\n",
              "    <tr>\n",
              "      <th>16</th>\n",
              "      <td>6.0</td>\n",
              "      <td>4.0</td>\n",
              "      <td>23.0</td>\n",
              "      <td>1.0</td>\n",
              "      <td>3.0</td>\n",
              "      <td>NaN</td>\n",
              "      <td>3.0</td>\n",
              "      <td>3.0</td>\n",
              "      <td>5.0</td>\n",
              "      <td>3.0</td>\n",
              "      <td>4.00</td>\n",
              "      <td>5.67</td>\n",
              "      <td>2.5</td>\n",
              "      <td>2.0</td>\n",
              "      <td>4.00</td>\n",
              "      <td>4.00</td>\n",
              "      <td>3.83</td>\n",
              "      <td>3.50</td>\n",
              "      <td>4.33</td>\n",
              "      <td>3.17</td>\n",
              "      <td>2.67</td>\n",
              "      <td>4.17</td>\n",
              "      <td>4.17</td>\n",
              "    </tr>\n",
              "    <tr>\n",
              "      <th>17</th>\n",
              "      <td>6.0</td>\n",
              "      <td>4.0</td>\n",
              "      <td>21.0</td>\n",
              "      <td>1.0</td>\n",
              "      <td>3.0</td>\n",
              "      <td>NaN</td>\n",
              "      <td>3.0</td>\n",
              "      <td>2.0</td>\n",
              "      <td>3.0</td>\n",
              "      <td>2.0</td>\n",
              "      <td>2.00</td>\n",
              "      <td>4.00</td>\n",
              "      <td>3.0</td>\n",
              "      <td>2.0</td>\n",
              "      <td>2.00</td>\n",
              "      <td>3.75</td>\n",
              "      <td>4.00</td>\n",
              "      <td>4.83</td>\n",
              "      <td>3.83</td>\n",
              "      <td>4.83</td>\n",
              "      <td>1.50</td>\n",
              "      <td>3.50</td>\n",
              "      <td>4.33</td>\n",
              "    </tr>\n",
              "    <tr>\n",
              "      <th>18</th>\n",
              "      <td>5.0</td>\n",
              "      <td>2.0</td>\n",
              "      <td>22.0</td>\n",
              "      <td>1.0</td>\n",
              "      <td>NaN</td>\n",
              "      <td>4.0</td>\n",
              "      <td>3.0</td>\n",
              "      <td>3.0</td>\n",
              "      <td>3.0</td>\n",
              "      <td>3.5</td>\n",
              "      <td>5.00</td>\n",
              "      <td>6.33</td>\n",
              "      <td>5.5</td>\n",
              "      <td>1.0</td>\n",
              "      <td>5.25</td>\n",
              "      <td>5.75</td>\n",
              "      <td>3.67</td>\n",
              "      <td>4.50</td>\n",
              "      <td>5.00</td>\n",
              "      <td>3.83</td>\n",
              "      <td>2.67</td>\n",
              "      <td>3.50</td>\n",
              "      <td>4.17</td>\n",
              "    </tr>\n",
              "    <tr>\n",
              "      <th>19</th>\n",
              "      <td>6.0</td>\n",
              "      <td>5.0</td>\n",
              "      <td>31.0</td>\n",
              "      <td>1.0</td>\n",
              "      <td>4.0</td>\n",
              "      <td>NaN</td>\n",
              "      <td>3.0</td>\n",
              "      <td>3.0</td>\n",
              "      <td>3.0</td>\n",
              "      <td>5.5</td>\n",
              "      <td>3.75</td>\n",
              "      <td>7.00</td>\n",
              "      <td>4.0</td>\n",
              "      <td>1.0</td>\n",
              "      <td>5.00</td>\n",
              "      <td>2.75</td>\n",
              "      <td>3.00</td>\n",
              "      <td>3.17</td>\n",
              "      <td>4.83</td>\n",
              "      <td>3.17</td>\n",
              "      <td>1.33</td>\n",
              "      <td>3.17</td>\n",
              "      <td>4.67</td>\n",
              "    </tr>\n",
              "  </tbody>\n",
              "</table>\n",
              "</div>"
            ],
            "text/plain": [
              "    immigration_attitude  tendency_immigration  ...  mac_fairness  mac_property\n",
              "0                    6.0                   5.0  ...          3.00          4.50\n",
              "1                    6.0                   4.0  ...          3.67          4.50\n",
              "2                    3.0                   2.0  ...          3.33          5.00\n",
              "3                    5.0                   4.0  ...          3.33          4.50\n",
              "4                    4.0                   1.0  ...          3.67          4.67\n",
              "5                    7.0                   4.0  ...          4.33          3.67\n",
              "6                    6.0                   5.0  ...          4.83          4.83\n",
              "7                    6.0                   5.0  ...          4.33          3.33\n",
              "8                    7.0                   5.0  ...          4.67          5.00\n",
              "9                    5.0                   3.0  ...          3.83          4.67\n",
              "10                   6.0                   4.0  ...          4.50          3.67\n",
              "11                   7.0                   5.0  ...          3.33          3.83\n",
              "12                   6.0                   6.0  ...          3.83          4.33\n",
              "13                   4.0                   2.0  ...          3.17          4.50\n",
              "14                   6.0                   5.0  ...          3.83          4.00\n",
              "15                   5.0                   3.0  ...          4.00          4.17\n",
              "16                   6.0                   4.0  ...          4.17          4.17\n",
              "17                   6.0                   4.0  ...          3.50          4.33\n",
              "18                   5.0                   2.0  ...          3.50          4.17\n",
              "19                   6.0                   5.0  ...          3.17          4.67\n",
              "\n",
              "[20 rows x 23 columns]"
            ]
          },
          "metadata": {
            "tags": []
          },
          "execution_count": 10
        }
      ]
    },
    {
      "cell_type": "code",
      "metadata": {
        "id": "mG4NpL61vx3_",
        "colab": {
          "base_uri": "https://localhost:8080/"
        },
        "outputId": "6acd7979-4801-4ae1-dd7f-780f8ce405ae"
      },
      "source": [
        "def mix_cols(row):\n",
        "  if np.isnan(row['education']):\n",
        "    return row['last_degree']\n",
        "  return row['education']\n",
        "\n",
        "df['education'] = df.apply(lambda row: mix_cols(row), axis=1)\n",
        "df.head(20)"
      ],
      "execution_count": null,
      "outputs": [
        {
          "output_type": "execute_result",
          "data": {
            "text/html": [
              "<div>\n",
              "<style scoped>\n",
              "    .dataframe tbody tr th:only-of-type {\n",
              "        vertical-align: middle;\n",
              "    }\n",
              "\n",
              "    .dataframe tbody tr th {\n",
              "        vertical-align: top;\n",
              "    }\n",
              "\n",
              "    .dataframe thead th {\n",
              "        text-align: right;\n",
              "    }\n",
              "</style>\n",
              "<table border=\"1\" class=\"dataframe\">\n",
              "  <thead>\n",
              "    <tr style=\"text-align: right;\">\n",
              "      <th></th>\n",
              "      <th>immigration_attitude</th>\n",
              "      <th>tendency_immigration</th>\n",
              "      <th>age</th>\n",
              "      <th>gender</th>\n",
              "      <th>education</th>\n",
              "      <th>last_degree</th>\n",
              "      <th>economic</th>\n",
              "      <th>religiosity</th>\n",
              "      <th>political</th>\n",
              "      <th>img_family</th>\n",
              "      <th>img_group</th>\n",
              "      <th>img_Reciprocity</th>\n",
              "      <th>img_heroism</th>\n",
              "      <th>img_deference</th>\n",
              "      <th>img_fairness</th>\n",
              "      <th>img_property</th>\n",
              "      <th>mac_family</th>\n",
              "      <th>mac_group</th>\n",
              "      <th>mac_reciprocity</th>\n",
              "      <th>mac_heroism</th>\n",
              "      <th>mac_deference</th>\n",
              "      <th>mac_fairness</th>\n",
              "      <th>mac_property</th>\n",
              "    </tr>\n",
              "  </thead>\n",
              "  <tbody>\n",
              "    <tr>\n",
              "      <th>0</th>\n",
              "      <td>6.0</td>\n",
              "      <td>5.0</td>\n",
              "      <td>21.0</td>\n",
              "      <td>1.0</td>\n",
              "      <td>3.0</td>\n",
              "      <td>NaN</td>\n",
              "      <td>4.0</td>\n",
              "      <td>2.0</td>\n",
              "      <td>5.0</td>\n",
              "      <td>3.5</td>\n",
              "      <td>4.00</td>\n",
              "      <td>5.67</td>\n",
              "      <td>4.0</td>\n",
              "      <td>2.0</td>\n",
              "      <td>5.00</td>\n",
              "      <td>3.50</td>\n",
              "      <td>3.50</td>\n",
              "      <td>3.17</td>\n",
              "      <td>4.83</td>\n",
              "      <td>2.83</td>\n",
              "      <td>1.83</td>\n",
              "      <td>3.00</td>\n",
              "      <td>4.50</td>\n",
              "    </tr>\n",
              "    <tr>\n",
              "      <th>1</th>\n",
              "      <td>6.0</td>\n",
              "      <td>4.0</td>\n",
              "      <td>23.0</td>\n",
              "      <td>1.0</td>\n",
              "      <td>3.0</td>\n",
              "      <td>NaN</td>\n",
              "      <td>4.0</td>\n",
              "      <td>3.0</td>\n",
              "      <td>3.0</td>\n",
              "      <td>4.0</td>\n",
              "      <td>3.50</td>\n",
              "      <td>7.00</td>\n",
              "      <td>2.0</td>\n",
              "      <td>4.0</td>\n",
              "      <td>4.00</td>\n",
              "      <td>4.25</td>\n",
              "      <td>3.33</td>\n",
              "      <td>3.00</td>\n",
              "      <td>3.83</td>\n",
              "      <td>2.67</td>\n",
              "      <td>2.67</td>\n",
              "      <td>3.67</td>\n",
              "      <td>4.50</td>\n",
              "    </tr>\n",
              "    <tr>\n",
              "      <th>2</th>\n",
              "      <td>3.0</td>\n",
              "      <td>2.0</td>\n",
              "      <td>20.0</td>\n",
              "      <td>1.0</td>\n",
              "      <td>3.0</td>\n",
              "      <td>NaN</td>\n",
              "      <td>3.0</td>\n",
              "      <td>4.0</td>\n",
              "      <td>2.0</td>\n",
              "      <td>2.5</td>\n",
              "      <td>5.00</td>\n",
              "      <td>3.00</td>\n",
              "      <td>4.5</td>\n",
              "      <td>2.0</td>\n",
              "      <td>3.25</td>\n",
              "      <td>2.50</td>\n",
              "      <td>3.83</td>\n",
              "      <td>3.17</td>\n",
              "      <td>3.67</td>\n",
              "      <td>4.67</td>\n",
              "      <td>3.33</td>\n",
              "      <td>3.33</td>\n",
              "      <td>5.00</td>\n",
              "    </tr>\n",
              "    <tr>\n",
              "      <th>3</th>\n",
              "      <td>5.0</td>\n",
              "      <td>4.0</td>\n",
              "      <td>16.0</td>\n",
              "      <td>1.0</td>\n",
              "      <td>3.0</td>\n",
              "      <td>NaN</td>\n",
              "      <td>2.0</td>\n",
              "      <td>3.0</td>\n",
              "      <td>3.0</td>\n",
              "      <td>3.0</td>\n",
              "      <td>3.25</td>\n",
              "      <td>5.67</td>\n",
              "      <td>5.0</td>\n",
              "      <td>5.0</td>\n",
              "      <td>4.50</td>\n",
              "      <td>4.25</td>\n",
              "      <td>3.50</td>\n",
              "      <td>2.67</td>\n",
              "      <td>4.83</td>\n",
              "      <td>3.83</td>\n",
              "      <td>2.33</td>\n",
              "      <td>3.33</td>\n",
              "      <td>4.50</td>\n",
              "    </tr>\n",
              "    <tr>\n",
              "      <th>4</th>\n",
              "      <td>4.0</td>\n",
              "      <td>1.0</td>\n",
              "      <td>21.0</td>\n",
              "      <td>1.0</td>\n",
              "      <td>3.0</td>\n",
              "      <td>NaN</td>\n",
              "      <td>NaN</td>\n",
              "      <td>3.0</td>\n",
              "      <td>NaN</td>\n",
              "      <td>5.0</td>\n",
              "      <td>3.50</td>\n",
              "      <td>5.67</td>\n",
              "      <td>2.5</td>\n",
              "      <td>2.0</td>\n",
              "      <td>4.25</td>\n",
              "      <td>3.75</td>\n",
              "      <td>4.83</td>\n",
              "      <td>4.00</td>\n",
              "      <td>4.83</td>\n",
              "      <td>3.83</td>\n",
              "      <td>2.67</td>\n",
              "      <td>3.67</td>\n",
              "      <td>4.67</td>\n",
              "    </tr>\n",
              "    <tr>\n",
              "      <th>5</th>\n",
              "      <td>7.0</td>\n",
              "      <td>4.0</td>\n",
              "      <td>20.0</td>\n",
              "      <td>1.0</td>\n",
              "      <td>3.0</td>\n",
              "      <td>NaN</td>\n",
              "      <td>3.0</td>\n",
              "      <td>3.0</td>\n",
              "      <td>3.0</td>\n",
              "      <td>NaN</td>\n",
              "      <td>2.00</td>\n",
              "      <td>6.00</td>\n",
              "      <td>5.0</td>\n",
              "      <td>NaN</td>\n",
              "      <td>5.67</td>\n",
              "      <td>7.00</td>\n",
              "      <td>3.00</td>\n",
              "      <td>2.17</td>\n",
              "      <td>3.00</td>\n",
              "      <td>2.50</td>\n",
              "      <td>2.67</td>\n",
              "      <td>4.33</td>\n",
              "      <td>3.67</td>\n",
              "    </tr>\n",
              "    <tr>\n",
              "      <th>6</th>\n",
              "      <td>6.0</td>\n",
              "      <td>5.0</td>\n",
              "      <td>25.0</td>\n",
              "      <td>1.0</td>\n",
              "      <td>4.0</td>\n",
              "      <td>NaN</td>\n",
              "      <td>4.0</td>\n",
              "      <td>3.0</td>\n",
              "      <td>3.0</td>\n",
              "      <td>3.0</td>\n",
              "      <td>4.75</td>\n",
              "      <td>7.00</td>\n",
              "      <td>5.0</td>\n",
              "      <td>3.0</td>\n",
              "      <td>3.00</td>\n",
              "      <td>4.25</td>\n",
              "      <td>4.83</td>\n",
              "      <td>4.17</td>\n",
              "      <td>4.83</td>\n",
              "      <td>4.50</td>\n",
              "      <td>2.83</td>\n",
              "      <td>4.83</td>\n",
              "      <td>4.83</td>\n",
              "    </tr>\n",
              "    <tr>\n",
              "      <th>7</th>\n",
              "      <td>6.0</td>\n",
              "      <td>5.0</td>\n",
              "      <td>22.0</td>\n",
              "      <td>1.0</td>\n",
              "      <td>3.0</td>\n",
              "      <td>NaN</td>\n",
              "      <td>3.0</td>\n",
              "      <td>3.0</td>\n",
              "      <td>3.0</td>\n",
              "      <td>2.5</td>\n",
              "      <td>2.50</td>\n",
              "      <td>6.33</td>\n",
              "      <td>5.0</td>\n",
              "      <td>3.0</td>\n",
              "      <td>5.00</td>\n",
              "      <td>4.00</td>\n",
              "      <td>2.83</td>\n",
              "      <td>4.17</td>\n",
              "      <td>4.33</td>\n",
              "      <td>3.33</td>\n",
              "      <td>2.00</td>\n",
              "      <td>4.33</td>\n",
              "      <td>3.33</td>\n",
              "    </tr>\n",
              "    <tr>\n",
              "      <th>8</th>\n",
              "      <td>7.0</td>\n",
              "      <td>5.0</td>\n",
              "      <td>21.0</td>\n",
              "      <td>1.0</td>\n",
              "      <td>2.0</td>\n",
              "      <td>NaN</td>\n",
              "      <td>3.0</td>\n",
              "      <td>2.0</td>\n",
              "      <td>5.0</td>\n",
              "      <td>3.5</td>\n",
              "      <td>2.50</td>\n",
              "      <td>7.00</td>\n",
              "      <td>4.0</td>\n",
              "      <td>1.0</td>\n",
              "      <td>4.25</td>\n",
              "      <td>4.25</td>\n",
              "      <td>4.50</td>\n",
              "      <td>4.67</td>\n",
              "      <td>4.67</td>\n",
              "      <td>4.50</td>\n",
              "      <td>2.67</td>\n",
              "      <td>4.67</td>\n",
              "      <td>5.00</td>\n",
              "    </tr>\n",
              "    <tr>\n",
              "      <th>9</th>\n",
              "      <td>5.0</td>\n",
              "      <td>3.0</td>\n",
              "      <td>22.0</td>\n",
              "      <td>2.0</td>\n",
              "      <td>3.0</td>\n",
              "      <td>NaN</td>\n",
              "      <td>3.0</td>\n",
              "      <td>3.0</td>\n",
              "      <td>3.0</td>\n",
              "      <td>1.5</td>\n",
              "      <td>4.25</td>\n",
              "      <td>7.00</td>\n",
              "      <td>4.0</td>\n",
              "      <td>2.0</td>\n",
              "      <td>4.75</td>\n",
              "      <td>4.75</td>\n",
              "      <td>3.83</td>\n",
              "      <td>3.33</td>\n",
              "      <td>4.67</td>\n",
              "      <td>2.17</td>\n",
              "      <td>1.33</td>\n",
              "      <td>3.83</td>\n",
              "      <td>4.67</td>\n",
              "    </tr>\n",
              "    <tr>\n",
              "      <th>10</th>\n",
              "      <td>6.0</td>\n",
              "      <td>4.0</td>\n",
              "      <td>21.0</td>\n",
              "      <td>1.0</td>\n",
              "      <td>3.0</td>\n",
              "      <td>NaN</td>\n",
              "      <td>5.0</td>\n",
              "      <td>3.0</td>\n",
              "      <td>5.0</td>\n",
              "      <td>3.5</td>\n",
              "      <td>2.00</td>\n",
              "      <td>7.00</td>\n",
              "      <td>1.5</td>\n",
              "      <td>4.0</td>\n",
              "      <td>5.50</td>\n",
              "      <td>4.00</td>\n",
              "      <td>3.17</td>\n",
              "      <td>4.17</td>\n",
              "      <td>3.83</td>\n",
              "      <td>3.83</td>\n",
              "      <td>0.67</td>\n",
              "      <td>4.50</td>\n",
              "      <td>3.67</td>\n",
              "    </tr>\n",
              "    <tr>\n",
              "      <th>11</th>\n",
              "      <td>7.0</td>\n",
              "      <td>5.0</td>\n",
              "      <td>21.0</td>\n",
              "      <td>1.0</td>\n",
              "      <td>3.0</td>\n",
              "      <td>NaN</td>\n",
              "      <td>4.0</td>\n",
              "      <td>1.0</td>\n",
              "      <td>NaN</td>\n",
              "      <td>3.5</td>\n",
              "      <td>1.50</td>\n",
              "      <td>6.00</td>\n",
              "      <td>1.5</td>\n",
              "      <td>4.0</td>\n",
              "      <td>4.00</td>\n",
              "      <td>5.25</td>\n",
              "      <td>2.50</td>\n",
              "      <td>2.83</td>\n",
              "      <td>3.00</td>\n",
              "      <td>2.00</td>\n",
              "      <td>2.17</td>\n",
              "      <td>3.33</td>\n",
              "      <td>3.83</td>\n",
              "    </tr>\n",
              "    <tr>\n",
              "      <th>12</th>\n",
              "      <td>6.0</td>\n",
              "      <td>6.0</td>\n",
              "      <td>21.0</td>\n",
              "      <td>1.0</td>\n",
              "      <td>3.0</td>\n",
              "      <td>NaN</td>\n",
              "      <td>3.0</td>\n",
              "      <td>1.0</td>\n",
              "      <td>3.0</td>\n",
              "      <td>2.5</td>\n",
              "      <td>2.25</td>\n",
              "      <td>6.00</td>\n",
              "      <td>2.5</td>\n",
              "      <td>5.0</td>\n",
              "      <td>3.75</td>\n",
              "      <td>5.50</td>\n",
              "      <td>3.50</td>\n",
              "      <td>3.40</td>\n",
              "      <td>4.33</td>\n",
              "      <td>3.00</td>\n",
              "      <td>1.17</td>\n",
              "      <td>3.83</td>\n",
              "      <td>4.33</td>\n",
              "    </tr>\n",
              "    <tr>\n",
              "      <th>13</th>\n",
              "      <td>4.0</td>\n",
              "      <td>2.0</td>\n",
              "      <td>21.0</td>\n",
              "      <td>1.0</td>\n",
              "      <td>3.0</td>\n",
              "      <td>NaN</td>\n",
              "      <td>4.0</td>\n",
              "      <td>4.0</td>\n",
              "      <td>3.0</td>\n",
              "      <td>4.0</td>\n",
              "      <td>4.75</td>\n",
              "      <td>4.33</td>\n",
              "      <td>5.5</td>\n",
              "      <td>2.0</td>\n",
              "      <td>3.25</td>\n",
              "      <td>4.33</td>\n",
              "      <td>2.83</td>\n",
              "      <td>4.33</td>\n",
              "      <td>3.50</td>\n",
              "      <td>4.33</td>\n",
              "      <td>3.33</td>\n",
              "      <td>3.17</td>\n",
              "      <td>4.50</td>\n",
              "    </tr>\n",
              "    <tr>\n",
              "      <th>14</th>\n",
              "      <td>6.0</td>\n",
              "      <td>5.0</td>\n",
              "      <td>23.0</td>\n",
              "      <td>1.0</td>\n",
              "      <td>3.0</td>\n",
              "      <td>NaN</td>\n",
              "      <td>3.0</td>\n",
              "      <td>3.0</td>\n",
              "      <td>5.0</td>\n",
              "      <td>1.5</td>\n",
              "      <td>3.00</td>\n",
              "      <td>6.00</td>\n",
              "      <td>2.5</td>\n",
              "      <td>3.0</td>\n",
              "      <td>5.50</td>\n",
              "      <td>5.75</td>\n",
              "      <td>2.50</td>\n",
              "      <td>2.67</td>\n",
              "      <td>3.67</td>\n",
              "      <td>2.67</td>\n",
              "      <td>1.50</td>\n",
              "      <td>3.83</td>\n",
              "      <td>4.00</td>\n",
              "    </tr>\n",
              "    <tr>\n",
              "      <th>15</th>\n",
              "      <td>5.0</td>\n",
              "      <td>3.0</td>\n",
              "      <td>22.0</td>\n",
              "      <td>1.0</td>\n",
              "      <td>3.0</td>\n",
              "      <td>NaN</td>\n",
              "      <td>3.0</td>\n",
              "      <td>3.0</td>\n",
              "      <td>3.0</td>\n",
              "      <td>4.0</td>\n",
              "      <td>4.00</td>\n",
              "      <td>4.33</td>\n",
              "      <td>3.5</td>\n",
              "      <td>2.0</td>\n",
              "      <td>3.25</td>\n",
              "      <td>4.00</td>\n",
              "      <td>3.17</td>\n",
              "      <td>4.17</td>\n",
              "      <td>3.83</td>\n",
              "      <td>3.67</td>\n",
              "      <td>2.50</td>\n",
              "      <td>4.00</td>\n",
              "      <td>4.17</td>\n",
              "    </tr>\n",
              "    <tr>\n",
              "      <th>16</th>\n",
              "      <td>6.0</td>\n",
              "      <td>4.0</td>\n",
              "      <td>23.0</td>\n",
              "      <td>1.0</td>\n",
              "      <td>3.0</td>\n",
              "      <td>NaN</td>\n",
              "      <td>3.0</td>\n",
              "      <td>3.0</td>\n",
              "      <td>5.0</td>\n",
              "      <td>3.0</td>\n",
              "      <td>4.00</td>\n",
              "      <td>5.67</td>\n",
              "      <td>2.5</td>\n",
              "      <td>2.0</td>\n",
              "      <td>4.00</td>\n",
              "      <td>4.00</td>\n",
              "      <td>3.83</td>\n",
              "      <td>3.50</td>\n",
              "      <td>4.33</td>\n",
              "      <td>3.17</td>\n",
              "      <td>2.67</td>\n",
              "      <td>4.17</td>\n",
              "      <td>4.17</td>\n",
              "    </tr>\n",
              "    <tr>\n",
              "      <th>17</th>\n",
              "      <td>6.0</td>\n",
              "      <td>4.0</td>\n",
              "      <td>21.0</td>\n",
              "      <td>1.0</td>\n",
              "      <td>3.0</td>\n",
              "      <td>NaN</td>\n",
              "      <td>3.0</td>\n",
              "      <td>2.0</td>\n",
              "      <td>3.0</td>\n",
              "      <td>2.0</td>\n",
              "      <td>2.00</td>\n",
              "      <td>4.00</td>\n",
              "      <td>3.0</td>\n",
              "      <td>2.0</td>\n",
              "      <td>2.00</td>\n",
              "      <td>3.75</td>\n",
              "      <td>4.00</td>\n",
              "      <td>4.83</td>\n",
              "      <td>3.83</td>\n",
              "      <td>4.83</td>\n",
              "      <td>1.50</td>\n",
              "      <td>3.50</td>\n",
              "      <td>4.33</td>\n",
              "    </tr>\n",
              "    <tr>\n",
              "      <th>18</th>\n",
              "      <td>5.0</td>\n",
              "      <td>2.0</td>\n",
              "      <td>22.0</td>\n",
              "      <td>1.0</td>\n",
              "      <td>4.0</td>\n",
              "      <td>4.0</td>\n",
              "      <td>3.0</td>\n",
              "      <td>3.0</td>\n",
              "      <td>3.0</td>\n",
              "      <td>3.5</td>\n",
              "      <td>5.00</td>\n",
              "      <td>6.33</td>\n",
              "      <td>5.5</td>\n",
              "      <td>1.0</td>\n",
              "      <td>5.25</td>\n",
              "      <td>5.75</td>\n",
              "      <td>3.67</td>\n",
              "      <td>4.50</td>\n",
              "      <td>5.00</td>\n",
              "      <td>3.83</td>\n",
              "      <td>2.67</td>\n",
              "      <td>3.50</td>\n",
              "      <td>4.17</td>\n",
              "    </tr>\n",
              "    <tr>\n",
              "      <th>19</th>\n",
              "      <td>6.0</td>\n",
              "      <td>5.0</td>\n",
              "      <td>31.0</td>\n",
              "      <td>1.0</td>\n",
              "      <td>4.0</td>\n",
              "      <td>NaN</td>\n",
              "      <td>3.0</td>\n",
              "      <td>3.0</td>\n",
              "      <td>3.0</td>\n",
              "      <td>5.5</td>\n",
              "      <td>3.75</td>\n",
              "      <td>7.00</td>\n",
              "      <td>4.0</td>\n",
              "      <td>1.0</td>\n",
              "      <td>5.00</td>\n",
              "      <td>2.75</td>\n",
              "      <td>3.00</td>\n",
              "      <td>3.17</td>\n",
              "      <td>4.83</td>\n",
              "      <td>3.17</td>\n",
              "      <td>1.33</td>\n",
              "      <td>3.17</td>\n",
              "      <td>4.67</td>\n",
              "    </tr>\n",
              "  </tbody>\n",
              "</table>\n",
              "</div>"
            ],
            "text/plain": [
              "    immigration_attitude  tendency_immigration  ...  mac_fairness  mac_property\n",
              "0                    6.0                   5.0  ...          3.00          4.50\n",
              "1                    6.0                   4.0  ...          3.67          4.50\n",
              "2                    3.0                   2.0  ...          3.33          5.00\n",
              "3                    5.0                   4.0  ...          3.33          4.50\n",
              "4                    4.0                   1.0  ...          3.67          4.67\n",
              "5                    7.0                   4.0  ...          4.33          3.67\n",
              "6                    6.0                   5.0  ...          4.83          4.83\n",
              "7                    6.0                   5.0  ...          4.33          3.33\n",
              "8                    7.0                   5.0  ...          4.67          5.00\n",
              "9                    5.0                   3.0  ...          3.83          4.67\n",
              "10                   6.0                   4.0  ...          4.50          3.67\n",
              "11                   7.0                   5.0  ...          3.33          3.83\n",
              "12                   6.0                   6.0  ...          3.83          4.33\n",
              "13                   4.0                   2.0  ...          3.17          4.50\n",
              "14                   6.0                   5.0  ...          3.83          4.00\n",
              "15                   5.0                   3.0  ...          4.00          4.17\n",
              "16                   6.0                   4.0  ...          4.17          4.17\n",
              "17                   6.0                   4.0  ...          3.50          4.33\n",
              "18                   5.0                   2.0  ...          3.50          4.17\n",
              "19                   6.0                   5.0  ...          3.17          4.67\n",
              "\n",
              "[20 rows x 23 columns]"
            ]
          },
          "metadata": {
            "tags": []
          },
          "execution_count": 11
        }
      ]
    },
    {
      "cell_type": "code",
      "metadata": {
        "id": "KvXjbt7B5y0f",
        "colab": {
          "base_uri": "https://localhost:8080/"
        },
        "outputId": "d1bb4954-1e82-43f0-a3a9-b15b1efd139c"
      },
      "source": [
        "df['education'].isnull().sum()"
      ],
      "execution_count": null,
      "outputs": [
        {
          "output_type": "execute_result",
          "data": {
            "text/plain": [
              "0"
            ]
          },
          "metadata": {
            "tags": []
          },
          "execution_count": 12
        }
      ]
    },
    {
      "cell_type": "markdown",
      "metadata": {
        "id": "oCJb6GoB59cg"
      },
      "source": [
        "There is no NAN values in education column.\n",
        "\n",
        "Now we can drop 'last_degree' column:"
      ]
    },
    {
      "cell_type": "code",
      "metadata": {
        "id": "p9VLJ-e36CaH",
        "colab": {
          "base_uri": "https://localhost:8080/"
        },
        "outputId": "5d3908c4-840a-471d-febc-98d51698873d"
      },
      "source": [
        "df = df.drop(columns=\"last_degree\")\n",
        "df.head()"
      ],
      "execution_count": null,
      "outputs": [
        {
          "output_type": "execute_result",
          "data": {
            "text/html": [
              "<div>\n",
              "<style scoped>\n",
              "    .dataframe tbody tr th:only-of-type {\n",
              "        vertical-align: middle;\n",
              "    }\n",
              "\n",
              "    .dataframe tbody tr th {\n",
              "        vertical-align: top;\n",
              "    }\n",
              "\n",
              "    .dataframe thead th {\n",
              "        text-align: right;\n",
              "    }\n",
              "</style>\n",
              "<table border=\"1\" class=\"dataframe\">\n",
              "  <thead>\n",
              "    <tr style=\"text-align: right;\">\n",
              "      <th></th>\n",
              "      <th>immigration_attitude</th>\n",
              "      <th>tendency_immigration</th>\n",
              "      <th>age</th>\n",
              "      <th>gender</th>\n",
              "      <th>education</th>\n",
              "      <th>economic</th>\n",
              "      <th>religiosity</th>\n",
              "      <th>political</th>\n",
              "      <th>img_family</th>\n",
              "      <th>img_group</th>\n",
              "      <th>img_Reciprocity</th>\n",
              "      <th>img_heroism</th>\n",
              "      <th>img_deference</th>\n",
              "      <th>img_fairness</th>\n",
              "      <th>img_property</th>\n",
              "      <th>mac_family</th>\n",
              "      <th>mac_group</th>\n",
              "      <th>mac_reciprocity</th>\n",
              "      <th>mac_heroism</th>\n",
              "      <th>mac_deference</th>\n",
              "      <th>mac_fairness</th>\n",
              "      <th>mac_property</th>\n",
              "    </tr>\n",
              "  </thead>\n",
              "  <tbody>\n",
              "    <tr>\n",
              "      <th>0</th>\n",
              "      <td>6.0</td>\n",
              "      <td>5.0</td>\n",
              "      <td>21.0</td>\n",
              "      <td>1.0</td>\n",
              "      <td>3.0</td>\n",
              "      <td>4.0</td>\n",
              "      <td>2.0</td>\n",
              "      <td>5.0</td>\n",
              "      <td>3.5</td>\n",
              "      <td>4.00</td>\n",
              "      <td>5.67</td>\n",
              "      <td>4.0</td>\n",
              "      <td>2.0</td>\n",
              "      <td>5.00</td>\n",
              "      <td>3.50</td>\n",
              "      <td>3.50</td>\n",
              "      <td>3.17</td>\n",
              "      <td>4.83</td>\n",
              "      <td>2.83</td>\n",
              "      <td>1.83</td>\n",
              "      <td>3.00</td>\n",
              "      <td>4.50</td>\n",
              "    </tr>\n",
              "    <tr>\n",
              "      <th>1</th>\n",
              "      <td>6.0</td>\n",
              "      <td>4.0</td>\n",
              "      <td>23.0</td>\n",
              "      <td>1.0</td>\n",
              "      <td>3.0</td>\n",
              "      <td>4.0</td>\n",
              "      <td>3.0</td>\n",
              "      <td>3.0</td>\n",
              "      <td>4.0</td>\n",
              "      <td>3.50</td>\n",
              "      <td>7.00</td>\n",
              "      <td>2.0</td>\n",
              "      <td>4.0</td>\n",
              "      <td>4.00</td>\n",
              "      <td>4.25</td>\n",
              "      <td>3.33</td>\n",
              "      <td>3.00</td>\n",
              "      <td>3.83</td>\n",
              "      <td>2.67</td>\n",
              "      <td>2.67</td>\n",
              "      <td>3.67</td>\n",
              "      <td>4.50</td>\n",
              "    </tr>\n",
              "    <tr>\n",
              "      <th>2</th>\n",
              "      <td>3.0</td>\n",
              "      <td>2.0</td>\n",
              "      <td>20.0</td>\n",
              "      <td>1.0</td>\n",
              "      <td>3.0</td>\n",
              "      <td>3.0</td>\n",
              "      <td>4.0</td>\n",
              "      <td>2.0</td>\n",
              "      <td>2.5</td>\n",
              "      <td>5.00</td>\n",
              "      <td>3.00</td>\n",
              "      <td>4.5</td>\n",
              "      <td>2.0</td>\n",
              "      <td>3.25</td>\n",
              "      <td>2.50</td>\n",
              "      <td>3.83</td>\n",
              "      <td>3.17</td>\n",
              "      <td>3.67</td>\n",
              "      <td>4.67</td>\n",
              "      <td>3.33</td>\n",
              "      <td>3.33</td>\n",
              "      <td>5.00</td>\n",
              "    </tr>\n",
              "    <tr>\n",
              "      <th>3</th>\n",
              "      <td>5.0</td>\n",
              "      <td>4.0</td>\n",
              "      <td>16.0</td>\n",
              "      <td>1.0</td>\n",
              "      <td>3.0</td>\n",
              "      <td>2.0</td>\n",
              "      <td>3.0</td>\n",
              "      <td>3.0</td>\n",
              "      <td>3.0</td>\n",
              "      <td>3.25</td>\n",
              "      <td>5.67</td>\n",
              "      <td>5.0</td>\n",
              "      <td>5.0</td>\n",
              "      <td>4.50</td>\n",
              "      <td>4.25</td>\n",
              "      <td>3.50</td>\n",
              "      <td>2.67</td>\n",
              "      <td>4.83</td>\n",
              "      <td>3.83</td>\n",
              "      <td>2.33</td>\n",
              "      <td>3.33</td>\n",
              "      <td>4.50</td>\n",
              "    </tr>\n",
              "    <tr>\n",
              "      <th>4</th>\n",
              "      <td>4.0</td>\n",
              "      <td>1.0</td>\n",
              "      <td>21.0</td>\n",
              "      <td>1.0</td>\n",
              "      <td>3.0</td>\n",
              "      <td>NaN</td>\n",
              "      <td>3.0</td>\n",
              "      <td>NaN</td>\n",
              "      <td>5.0</td>\n",
              "      <td>3.50</td>\n",
              "      <td>5.67</td>\n",
              "      <td>2.5</td>\n",
              "      <td>2.0</td>\n",
              "      <td>4.25</td>\n",
              "      <td>3.75</td>\n",
              "      <td>4.83</td>\n",
              "      <td>4.00</td>\n",
              "      <td>4.83</td>\n",
              "      <td>3.83</td>\n",
              "      <td>2.67</td>\n",
              "      <td>3.67</td>\n",
              "      <td>4.67</td>\n",
              "    </tr>\n",
              "  </tbody>\n",
              "</table>\n",
              "</div>"
            ],
            "text/plain": [
              "   immigration_attitude  tendency_immigration  ...  mac_fairness  mac_property\n",
              "0                   6.0                   5.0  ...          3.00          4.50\n",
              "1                   6.0                   4.0  ...          3.67          4.50\n",
              "2                   3.0                   2.0  ...          3.33          5.00\n",
              "3                   5.0                   4.0  ...          3.33          4.50\n",
              "4                   4.0                   1.0  ...          3.67          4.67\n",
              "\n",
              "[5 rows x 22 columns]"
            ]
          },
          "metadata": {
            "tags": []
          },
          "execution_count": 13
        }
      ]
    },
    {
      "cell_type": "code",
      "metadata": {
        "id": "AY0XS4Sz6mn5",
        "colab": {
          "base_uri": "https://localhost:8080/"
        },
        "outputId": "e45029d7-b0a2-4a02-b589-b4992a62b999"
      },
      "source": [
        "# Display total number of missing values for each column (sorted from highest to lowest one) after all cleanings\n",
        "def missing_table(dataset):\n",
        "  total = dataset.isnull().sum().sort_values(ascending=False)\n",
        "  percent = (dataset.isnull().sum() / dataset.isnull().count()).sort_values(ascending=False)\n",
        "  missing_data = pd.concat([total, percent], axis=1, keys=['total', 'percent']) \n",
        "  return missing_data.T\n",
        "\n",
        "missing_table(df)"
      ],
      "execution_count": null,
      "outputs": [
        {
          "output_type": "execute_result",
          "data": {
            "text/html": [
              "<div>\n",
              "<style scoped>\n",
              "    .dataframe tbody tr th:only-of-type {\n",
              "        vertical-align: middle;\n",
              "    }\n",
              "\n",
              "    .dataframe tbody tr th {\n",
              "        vertical-align: top;\n",
              "    }\n",
              "\n",
              "    .dataframe thead th {\n",
              "        text-align: right;\n",
              "    }\n",
              "</style>\n",
              "<table border=\"1\" class=\"dataframe\">\n",
              "  <thead>\n",
              "    <tr style=\"text-align: right;\">\n",
              "      <th></th>\n",
              "      <th>img_deference</th>\n",
              "      <th>img_heroism</th>\n",
              "      <th>age</th>\n",
              "      <th>political</th>\n",
              "      <th>img_family</th>\n",
              "      <th>economic</th>\n",
              "      <th>religiosity</th>\n",
              "      <th>img_fairness</th>\n",
              "      <th>img_Reciprocity</th>\n",
              "      <th>tendency_immigration</th>\n",
              "      <th>gender</th>\n",
              "      <th>immigration_attitude</th>\n",
              "      <th>img_property</th>\n",
              "      <th>img_group</th>\n",
              "      <th>mac_fairness</th>\n",
              "      <th>mac_family</th>\n",
              "      <th>mac_group</th>\n",
              "      <th>education</th>\n",
              "      <th>mac_reciprocity</th>\n",
              "      <th>mac_heroism</th>\n",
              "      <th>mac_deference</th>\n",
              "      <th>mac_property</th>\n",
              "    </tr>\n",
              "  </thead>\n",
              "  <tbody>\n",
              "    <tr>\n",
              "      <th>total</th>\n",
              "      <td>17.000000</td>\n",
              "      <td>14.000000</td>\n",
              "      <td>8.000000</td>\n",
              "      <td>8.000000</td>\n",
              "      <td>7.000000</td>\n",
              "      <td>5.00000</td>\n",
              "      <td>3.000000</td>\n",
              "      <td>2.000000</td>\n",
              "      <td>1.000000</td>\n",
              "      <td>1.000000</td>\n",
              "      <td>1.000000</td>\n",
              "      <td>1.000000</td>\n",
              "      <td>1.000000</td>\n",
              "      <td>0.0</td>\n",
              "      <td>0.0</td>\n",
              "      <td>0.0</td>\n",
              "      <td>0.0</td>\n",
              "      <td>0.0</td>\n",
              "      <td>0.0</td>\n",
              "      <td>0.0</td>\n",
              "      <td>0.0</td>\n",
              "      <td>0.0</td>\n",
              "    </tr>\n",
              "    <tr>\n",
              "      <th>percent</th>\n",
              "      <td>0.051205</td>\n",
              "      <td>0.042169</td>\n",
              "      <td>0.024096</td>\n",
              "      <td>0.024096</td>\n",
              "      <td>0.021084</td>\n",
              "      <td>0.01506</td>\n",
              "      <td>0.009036</td>\n",
              "      <td>0.006024</td>\n",
              "      <td>0.003012</td>\n",
              "      <td>0.003012</td>\n",
              "      <td>0.003012</td>\n",
              "      <td>0.003012</td>\n",
              "      <td>0.003012</td>\n",
              "      <td>0.0</td>\n",
              "      <td>0.0</td>\n",
              "      <td>0.0</td>\n",
              "      <td>0.0</td>\n",
              "      <td>0.0</td>\n",
              "      <td>0.0</td>\n",
              "      <td>0.0</td>\n",
              "      <td>0.0</td>\n",
              "      <td>0.0</td>\n",
              "    </tr>\n",
              "  </tbody>\n",
              "</table>\n",
              "</div>"
            ],
            "text/plain": [
              "         img_deference  img_heroism  ...  mac_deference  mac_property\n",
              "total        17.000000    14.000000  ...            0.0           0.0\n",
              "percent       0.051205     0.042169  ...            0.0           0.0\n",
              "\n",
              "[2 rows x 22 columns]"
            ]
          },
          "metadata": {
            "tags": []
          },
          "execution_count": 14
        }
      ]
    },
    {
      "cell_type": "code",
      "metadata": {
        "id": "hGV2_pDS_0Qr",
        "colab": {
          "base_uri": "https://localhost:8080/"
        },
        "outputId": "cdfe4297-3842-40c9-930e-a2abf02e9bdf"
      },
      "source": [
        "# remove row with NAN value of label\n",
        "df = df.drop(df[df['tendency_immigration'].isnull()].index, axis=0)\n",
        "df = df.drop(df[df['immigration_attitude'].isnull()].index, axis=0)\n",
        "df.shape"
      ],
      "execution_count": null,
      "outputs": [
        {
          "output_type": "execute_result",
          "data": {
            "text/plain": [
              "(330, 22)"
            ]
          },
          "metadata": {
            "tags": []
          },
          "execution_count": 15
        }
      ]
    },
    {
      "cell_type": "code",
      "metadata": {
        "id": "iEN8adcUB0-w"
      },
      "source": [
        "# fill the only row with NAN gender to 'Men'\n",
        "nan_gen = df[df['gender'].isnull()]\n",
        "df.loc[nan_gen.index, 'gender'] = 2"
      ],
      "execution_count": null,
      "outputs": []
    },
    {
      "cell_type": "code",
      "metadata": {
        "id": "chcQwASbDozU",
        "colab": {
          "base_uri": "https://localhost:8080/"
        },
        "outputId": "13fca093-4070-4f95-8411-36e77d92a1ad"
      },
      "source": [
        "missing_table(df)"
      ],
      "execution_count": null,
      "outputs": [
        {
          "output_type": "execute_result",
          "data": {
            "text/html": [
              "<div>\n",
              "<style scoped>\n",
              "    .dataframe tbody tr th:only-of-type {\n",
              "        vertical-align: middle;\n",
              "    }\n",
              "\n",
              "    .dataframe tbody tr th {\n",
              "        vertical-align: top;\n",
              "    }\n",
              "\n",
              "    .dataframe thead th {\n",
              "        text-align: right;\n",
              "    }\n",
              "</style>\n",
              "<table border=\"1\" class=\"dataframe\">\n",
              "  <thead>\n",
              "    <tr style=\"text-align: right;\">\n",
              "      <th></th>\n",
              "      <th>img_deference</th>\n",
              "      <th>img_heroism</th>\n",
              "      <th>age</th>\n",
              "      <th>political</th>\n",
              "      <th>img_family</th>\n",
              "      <th>economic</th>\n",
              "      <th>religiosity</th>\n",
              "      <th>img_fairness</th>\n",
              "      <th>img_Reciprocity</th>\n",
              "      <th>img_property</th>\n",
              "      <th>tendency_immigration</th>\n",
              "      <th>gender</th>\n",
              "      <th>education</th>\n",
              "      <th>mac_property</th>\n",
              "      <th>img_group</th>\n",
              "      <th>mac_fairness</th>\n",
              "      <th>mac_family</th>\n",
              "      <th>mac_group</th>\n",
              "      <th>mac_reciprocity</th>\n",
              "      <th>mac_heroism</th>\n",
              "      <th>mac_deference</th>\n",
              "      <th>immigration_attitude</th>\n",
              "    </tr>\n",
              "  </thead>\n",
              "  <tbody>\n",
              "    <tr>\n",
              "      <th>total</th>\n",
              "      <td>17.000000</td>\n",
              "      <td>14.000000</td>\n",
              "      <td>8.000000</td>\n",
              "      <td>8.000000</td>\n",
              "      <td>7.000000</td>\n",
              "      <td>5.000000</td>\n",
              "      <td>3.000000</td>\n",
              "      <td>2.000000</td>\n",
              "      <td>1.00000</td>\n",
              "      <td>1.00000</td>\n",
              "      <td>0.0</td>\n",
              "      <td>0.0</td>\n",
              "      <td>0.0</td>\n",
              "      <td>0.0</td>\n",
              "      <td>0.0</td>\n",
              "      <td>0.0</td>\n",
              "      <td>0.0</td>\n",
              "      <td>0.0</td>\n",
              "      <td>0.0</td>\n",
              "      <td>0.0</td>\n",
              "      <td>0.0</td>\n",
              "      <td>0.0</td>\n",
              "    </tr>\n",
              "    <tr>\n",
              "      <th>percent</th>\n",
              "      <td>0.051515</td>\n",
              "      <td>0.042424</td>\n",
              "      <td>0.024242</td>\n",
              "      <td>0.024242</td>\n",
              "      <td>0.021212</td>\n",
              "      <td>0.015152</td>\n",
              "      <td>0.009091</td>\n",
              "      <td>0.006061</td>\n",
              "      <td>0.00303</td>\n",
              "      <td>0.00303</td>\n",
              "      <td>0.0</td>\n",
              "      <td>0.0</td>\n",
              "      <td>0.0</td>\n",
              "      <td>0.0</td>\n",
              "      <td>0.0</td>\n",
              "      <td>0.0</td>\n",
              "      <td>0.0</td>\n",
              "      <td>0.0</td>\n",
              "      <td>0.0</td>\n",
              "      <td>0.0</td>\n",
              "      <td>0.0</td>\n",
              "      <td>0.0</td>\n",
              "    </tr>\n",
              "  </tbody>\n",
              "</table>\n",
              "</div>"
            ],
            "text/plain": [
              "         img_deference  img_heroism  ...  mac_deference  immigration_attitude\n",
              "total        17.000000    14.000000  ...            0.0                   0.0\n",
              "percent       0.051515     0.042424  ...            0.0                   0.0\n",
              "\n",
              "[2 rows x 22 columns]"
            ]
          },
          "metadata": {
            "tags": []
          },
          "execution_count": 17
        }
      ]
    },
    {
      "cell_type": "code",
      "metadata": {
        "colab": {
          "base_uri": "https://localhost:8080/"
        },
        "id": "5yeI2Ft6KsAo",
        "outputId": "fa48c109-d267-410d-c105-58c2d359df28"
      },
      "source": [
        "# One Hot Encoding\n",
        "df = pd.get_dummies(df, columns=[\"gender\"])\n",
        "df = df.rename(columns={'gender_1.0':'woman', 'gender_2.0':'man'})\n",
        "df.head(5)"
      ],
      "execution_count": null,
      "outputs": [
        {
          "output_type": "execute_result",
          "data": {
            "text/html": [
              "<div>\n",
              "<style scoped>\n",
              "    .dataframe tbody tr th:only-of-type {\n",
              "        vertical-align: middle;\n",
              "    }\n",
              "\n",
              "    .dataframe tbody tr th {\n",
              "        vertical-align: top;\n",
              "    }\n",
              "\n",
              "    .dataframe thead th {\n",
              "        text-align: right;\n",
              "    }\n",
              "</style>\n",
              "<table border=\"1\" class=\"dataframe\">\n",
              "  <thead>\n",
              "    <tr style=\"text-align: right;\">\n",
              "      <th></th>\n",
              "      <th>immigration_attitude</th>\n",
              "      <th>tendency_immigration</th>\n",
              "      <th>age</th>\n",
              "      <th>education</th>\n",
              "      <th>economic</th>\n",
              "      <th>religiosity</th>\n",
              "      <th>political</th>\n",
              "      <th>img_family</th>\n",
              "      <th>img_group</th>\n",
              "      <th>img_Reciprocity</th>\n",
              "      <th>img_heroism</th>\n",
              "      <th>img_deference</th>\n",
              "      <th>img_fairness</th>\n",
              "      <th>img_property</th>\n",
              "      <th>mac_family</th>\n",
              "      <th>mac_group</th>\n",
              "      <th>mac_reciprocity</th>\n",
              "      <th>mac_heroism</th>\n",
              "      <th>mac_deference</th>\n",
              "      <th>mac_fairness</th>\n",
              "      <th>mac_property</th>\n",
              "      <th>woman</th>\n",
              "      <th>man</th>\n",
              "    </tr>\n",
              "  </thead>\n",
              "  <tbody>\n",
              "    <tr>\n",
              "      <th>0</th>\n",
              "      <td>6.0</td>\n",
              "      <td>5.0</td>\n",
              "      <td>21.0</td>\n",
              "      <td>3.0</td>\n",
              "      <td>4.0</td>\n",
              "      <td>2.0</td>\n",
              "      <td>5.0</td>\n",
              "      <td>3.5</td>\n",
              "      <td>4.00</td>\n",
              "      <td>5.67</td>\n",
              "      <td>4.0</td>\n",
              "      <td>2.0</td>\n",
              "      <td>5.00</td>\n",
              "      <td>3.50</td>\n",
              "      <td>3.50</td>\n",
              "      <td>3.17</td>\n",
              "      <td>4.83</td>\n",
              "      <td>2.83</td>\n",
              "      <td>1.83</td>\n",
              "      <td>3.00</td>\n",
              "      <td>4.50</td>\n",
              "      <td>1</td>\n",
              "      <td>0</td>\n",
              "    </tr>\n",
              "    <tr>\n",
              "      <th>1</th>\n",
              "      <td>6.0</td>\n",
              "      <td>4.0</td>\n",
              "      <td>23.0</td>\n",
              "      <td>3.0</td>\n",
              "      <td>4.0</td>\n",
              "      <td>3.0</td>\n",
              "      <td>3.0</td>\n",
              "      <td>4.0</td>\n",
              "      <td>3.50</td>\n",
              "      <td>7.00</td>\n",
              "      <td>2.0</td>\n",
              "      <td>4.0</td>\n",
              "      <td>4.00</td>\n",
              "      <td>4.25</td>\n",
              "      <td>3.33</td>\n",
              "      <td>3.00</td>\n",
              "      <td>3.83</td>\n",
              "      <td>2.67</td>\n",
              "      <td>2.67</td>\n",
              "      <td>3.67</td>\n",
              "      <td>4.50</td>\n",
              "      <td>1</td>\n",
              "      <td>0</td>\n",
              "    </tr>\n",
              "    <tr>\n",
              "      <th>2</th>\n",
              "      <td>3.0</td>\n",
              "      <td>2.0</td>\n",
              "      <td>20.0</td>\n",
              "      <td>3.0</td>\n",
              "      <td>3.0</td>\n",
              "      <td>4.0</td>\n",
              "      <td>2.0</td>\n",
              "      <td>2.5</td>\n",
              "      <td>5.00</td>\n",
              "      <td>3.00</td>\n",
              "      <td>4.5</td>\n",
              "      <td>2.0</td>\n",
              "      <td>3.25</td>\n",
              "      <td>2.50</td>\n",
              "      <td>3.83</td>\n",
              "      <td>3.17</td>\n",
              "      <td>3.67</td>\n",
              "      <td>4.67</td>\n",
              "      <td>3.33</td>\n",
              "      <td>3.33</td>\n",
              "      <td>5.00</td>\n",
              "      <td>1</td>\n",
              "      <td>0</td>\n",
              "    </tr>\n",
              "    <tr>\n",
              "      <th>3</th>\n",
              "      <td>5.0</td>\n",
              "      <td>4.0</td>\n",
              "      <td>16.0</td>\n",
              "      <td>3.0</td>\n",
              "      <td>2.0</td>\n",
              "      <td>3.0</td>\n",
              "      <td>3.0</td>\n",
              "      <td>3.0</td>\n",
              "      <td>3.25</td>\n",
              "      <td>5.67</td>\n",
              "      <td>5.0</td>\n",
              "      <td>5.0</td>\n",
              "      <td>4.50</td>\n",
              "      <td>4.25</td>\n",
              "      <td>3.50</td>\n",
              "      <td>2.67</td>\n",
              "      <td>4.83</td>\n",
              "      <td>3.83</td>\n",
              "      <td>2.33</td>\n",
              "      <td>3.33</td>\n",
              "      <td>4.50</td>\n",
              "      <td>1</td>\n",
              "      <td>0</td>\n",
              "    </tr>\n",
              "    <tr>\n",
              "      <th>4</th>\n",
              "      <td>4.0</td>\n",
              "      <td>1.0</td>\n",
              "      <td>21.0</td>\n",
              "      <td>3.0</td>\n",
              "      <td>NaN</td>\n",
              "      <td>3.0</td>\n",
              "      <td>NaN</td>\n",
              "      <td>5.0</td>\n",
              "      <td>3.50</td>\n",
              "      <td>5.67</td>\n",
              "      <td>2.5</td>\n",
              "      <td>2.0</td>\n",
              "      <td>4.25</td>\n",
              "      <td>3.75</td>\n",
              "      <td>4.83</td>\n",
              "      <td>4.00</td>\n",
              "      <td>4.83</td>\n",
              "      <td>3.83</td>\n",
              "      <td>2.67</td>\n",
              "      <td>3.67</td>\n",
              "      <td>4.67</td>\n",
              "      <td>1</td>\n",
              "      <td>0</td>\n",
              "    </tr>\n",
              "  </tbody>\n",
              "</table>\n",
              "</div>"
            ],
            "text/plain": [
              "   immigration_attitude  tendency_immigration   age  ...  mac_property  woman  man\n",
              "0                   6.0                   5.0  21.0  ...          4.50      1    0\n",
              "1                   6.0                   4.0  23.0  ...          4.50      1    0\n",
              "2                   3.0                   2.0  20.0  ...          5.00      1    0\n",
              "3                   5.0                   4.0  16.0  ...          4.50      1    0\n",
              "4                   4.0                   1.0  21.0  ...          4.67      1    0\n",
              "\n",
              "[5 rows x 23 columns]"
            ]
          },
          "metadata": {
            "tags": []
          },
          "execution_count": 18
        }
      ]
    },
    {
      "cell_type": "code",
      "metadata": {
        "colab": {
          "base_uri": "https://localhost:8080/"
        },
        "id": "fLjc_LI5Yool",
        "outputId": "8f48d2c9-72df-4687-b26d-65f8388dadaa"
      },
      "source": [
        "# To reach binary classification later\n",
        "df['tendency_immigration'] = df['tendency_immigration'] > 4\n",
        "df.head()"
      ],
      "execution_count": null,
      "outputs": [
        {
          "output_type": "execute_result",
          "data": {
            "text/html": [
              "<div>\n",
              "<style scoped>\n",
              "    .dataframe tbody tr th:only-of-type {\n",
              "        vertical-align: middle;\n",
              "    }\n",
              "\n",
              "    .dataframe tbody tr th {\n",
              "        vertical-align: top;\n",
              "    }\n",
              "\n",
              "    .dataframe thead th {\n",
              "        text-align: right;\n",
              "    }\n",
              "</style>\n",
              "<table border=\"1\" class=\"dataframe\">\n",
              "  <thead>\n",
              "    <tr style=\"text-align: right;\">\n",
              "      <th></th>\n",
              "      <th>immigration_attitude</th>\n",
              "      <th>tendency_immigration</th>\n",
              "      <th>age</th>\n",
              "      <th>education</th>\n",
              "      <th>economic</th>\n",
              "      <th>religiosity</th>\n",
              "      <th>political</th>\n",
              "      <th>img_family</th>\n",
              "      <th>img_group</th>\n",
              "      <th>img_Reciprocity</th>\n",
              "      <th>img_heroism</th>\n",
              "      <th>img_deference</th>\n",
              "      <th>img_fairness</th>\n",
              "      <th>img_property</th>\n",
              "      <th>mac_family</th>\n",
              "      <th>mac_group</th>\n",
              "      <th>mac_reciprocity</th>\n",
              "      <th>mac_heroism</th>\n",
              "      <th>mac_deference</th>\n",
              "      <th>mac_fairness</th>\n",
              "      <th>mac_property</th>\n",
              "      <th>woman</th>\n",
              "      <th>man</th>\n",
              "    </tr>\n",
              "  </thead>\n",
              "  <tbody>\n",
              "    <tr>\n",
              "      <th>0</th>\n",
              "      <td>6.0</td>\n",
              "      <td>True</td>\n",
              "      <td>21.0</td>\n",
              "      <td>3.0</td>\n",
              "      <td>4.0</td>\n",
              "      <td>2.0</td>\n",
              "      <td>5.0</td>\n",
              "      <td>3.5</td>\n",
              "      <td>4.00</td>\n",
              "      <td>5.67</td>\n",
              "      <td>4.0</td>\n",
              "      <td>2.0</td>\n",
              "      <td>5.00</td>\n",
              "      <td>3.50</td>\n",
              "      <td>3.50</td>\n",
              "      <td>3.17</td>\n",
              "      <td>4.83</td>\n",
              "      <td>2.83</td>\n",
              "      <td>1.83</td>\n",
              "      <td>3.00</td>\n",
              "      <td>4.50</td>\n",
              "      <td>1</td>\n",
              "      <td>0</td>\n",
              "    </tr>\n",
              "    <tr>\n",
              "      <th>1</th>\n",
              "      <td>6.0</td>\n",
              "      <td>False</td>\n",
              "      <td>23.0</td>\n",
              "      <td>3.0</td>\n",
              "      <td>4.0</td>\n",
              "      <td>3.0</td>\n",
              "      <td>3.0</td>\n",
              "      <td>4.0</td>\n",
              "      <td>3.50</td>\n",
              "      <td>7.00</td>\n",
              "      <td>2.0</td>\n",
              "      <td>4.0</td>\n",
              "      <td>4.00</td>\n",
              "      <td>4.25</td>\n",
              "      <td>3.33</td>\n",
              "      <td>3.00</td>\n",
              "      <td>3.83</td>\n",
              "      <td>2.67</td>\n",
              "      <td>2.67</td>\n",
              "      <td>3.67</td>\n",
              "      <td>4.50</td>\n",
              "      <td>1</td>\n",
              "      <td>0</td>\n",
              "    </tr>\n",
              "    <tr>\n",
              "      <th>2</th>\n",
              "      <td>3.0</td>\n",
              "      <td>False</td>\n",
              "      <td>20.0</td>\n",
              "      <td>3.0</td>\n",
              "      <td>3.0</td>\n",
              "      <td>4.0</td>\n",
              "      <td>2.0</td>\n",
              "      <td>2.5</td>\n",
              "      <td>5.00</td>\n",
              "      <td>3.00</td>\n",
              "      <td>4.5</td>\n",
              "      <td>2.0</td>\n",
              "      <td>3.25</td>\n",
              "      <td>2.50</td>\n",
              "      <td>3.83</td>\n",
              "      <td>3.17</td>\n",
              "      <td>3.67</td>\n",
              "      <td>4.67</td>\n",
              "      <td>3.33</td>\n",
              "      <td>3.33</td>\n",
              "      <td>5.00</td>\n",
              "      <td>1</td>\n",
              "      <td>0</td>\n",
              "    </tr>\n",
              "    <tr>\n",
              "      <th>3</th>\n",
              "      <td>5.0</td>\n",
              "      <td>False</td>\n",
              "      <td>16.0</td>\n",
              "      <td>3.0</td>\n",
              "      <td>2.0</td>\n",
              "      <td>3.0</td>\n",
              "      <td>3.0</td>\n",
              "      <td>3.0</td>\n",
              "      <td>3.25</td>\n",
              "      <td>5.67</td>\n",
              "      <td>5.0</td>\n",
              "      <td>5.0</td>\n",
              "      <td>4.50</td>\n",
              "      <td>4.25</td>\n",
              "      <td>3.50</td>\n",
              "      <td>2.67</td>\n",
              "      <td>4.83</td>\n",
              "      <td>3.83</td>\n",
              "      <td>2.33</td>\n",
              "      <td>3.33</td>\n",
              "      <td>4.50</td>\n",
              "      <td>1</td>\n",
              "      <td>0</td>\n",
              "    </tr>\n",
              "    <tr>\n",
              "      <th>4</th>\n",
              "      <td>4.0</td>\n",
              "      <td>False</td>\n",
              "      <td>21.0</td>\n",
              "      <td>3.0</td>\n",
              "      <td>NaN</td>\n",
              "      <td>3.0</td>\n",
              "      <td>NaN</td>\n",
              "      <td>5.0</td>\n",
              "      <td>3.50</td>\n",
              "      <td>5.67</td>\n",
              "      <td>2.5</td>\n",
              "      <td>2.0</td>\n",
              "      <td>4.25</td>\n",
              "      <td>3.75</td>\n",
              "      <td>4.83</td>\n",
              "      <td>4.00</td>\n",
              "      <td>4.83</td>\n",
              "      <td>3.83</td>\n",
              "      <td>2.67</td>\n",
              "      <td>3.67</td>\n",
              "      <td>4.67</td>\n",
              "      <td>1</td>\n",
              "      <td>0</td>\n",
              "    </tr>\n",
              "  </tbody>\n",
              "</table>\n",
              "</div>"
            ],
            "text/plain": [
              "   immigration_attitude  tendency_immigration   age  ...  mac_property  woman  man\n",
              "0                   6.0                  True  21.0  ...          4.50      1    0\n",
              "1                   6.0                 False  23.0  ...          4.50      1    0\n",
              "2                   3.0                 False  20.0  ...          5.00      1    0\n",
              "3                   5.0                 False  16.0  ...          4.50      1    0\n",
              "4                   4.0                 False  21.0  ...          4.67      1    0\n",
              "\n",
              "[5 rows x 23 columns]"
            ]
          },
          "metadata": {
            "tags": []
          },
          "execution_count": 19
        }
      ]
    },
    {
      "cell_type": "code",
      "metadata": {
        "id": "wBPxjn63Vp3N"
      },
      "source": [
        "def changeLabel(value):\n",
        "  if pd.isnull(value):\n",
        "    return value\n",
        "  return str(int(value))\n",
        "\n",
        "def changeType(column_name):\n",
        "  df[column_name] = df.apply(lambda row: changeLabel(row[column_name]), axis=1)"
      ],
      "execution_count": null,
      "outputs": []
    },
    {
      "cell_type": "code",
      "metadata": {
        "colab": {
          "base_uri": "https://localhost:8080/"
        },
        "id": "fEAmzTiUUXbt",
        "outputId": "7d88da46-6be8-4581-f89c-6780fee6ab5f"
      },
      "source": [
        "# changeType('tendency_immigration')\n",
        "changeType('education')\n",
        "changeType('economic')\n",
        "changeType('religiosity')\n",
        "changeType('political')\n",
        "changeType('immigration_attitude')\n",
        "df.head(5)"
      ],
      "execution_count": null,
      "outputs": [
        {
          "output_type": "execute_result",
          "data": {
            "text/html": [
              "<div>\n",
              "<style scoped>\n",
              "    .dataframe tbody tr th:only-of-type {\n",
              "        vertical-align: middle;\n",
              "    }\n",
              "\n",
              "    .dataframe tbody tr th {\n",
              "        vertical-align: top;\n",
              "    }\n",
              "\n",
              "    .dataframe thead th {\n",
              "        text-align: right;\n",
              "    }\n",
              "</style>\n",
              "<table border=\"1\" class=\"dataframe\">\n",
              "  <thead>\n",
              "    <tr style=\"text-align: right;\">\n",
              "      <th></th>\n",
              "      <th>immigration_attitude</th>\n",
              "      <th>tendency_immigration</th>\n",
              "      <th>age</th>\n",
              "      <th>education</th>\n",
              "      <th>economic</th>\n",
              "      <th>religiosity</th>\n",
              "      <th>political</th>\n",
              "      <th>img_family</th>\n",
              "      <th>img_group</th>\n",
              "      <th>img_Reciprocity</th>\n",
              "      <th>img_heroism</th>\n",
              "      <th>img_deference</th>\n",
              "      <th>img_fairness</th>\n",
              "      <th>img_property</th>\n",
              "      <th>mac_family</th>\n",
              "      <th>mac_group</th>\n",
              "      <th>mac_reciprocity</th>\n",
              "      <th>mac_heroism</th>\n",
              "      <th>mac_deference</th>\n",
              "      <th>mac_fairness</th>\n",
              "      <th>mac_property</th>\n",
              "      <th>woman</th>\n",
              "      <th>man</th>\n",
              "    </tr>\n",
              "  </thead>\n",
              "  <tbody>\n",
              "    <tr>\n",
              "      <th>0</th>\n",
              "      <td>6</td>\n",
              "      <td>True</td>\n",
              "      <td>21.0</td>\n",
              "      <td>3</td>\n",
              "      <td>4</td>\n",
              "      <td>2</td>\n",
              "      <td>5</td>\n",
              "      <td>3.5</td>\n",
              "      <td>4.00</td>\n",
              "      <td>5.67</td>\n",
              "      <td>4.0</td>\n",
              "      <td>2.0</td>\n",
              "      <td>5.00</td>\n",
              "      <td>3.50</td>\n",
              "      <td>3.50</td>\n",
              "      <td>3.17</td>\n",
              "      <td>4.83</td>\n",
              "      <td>2.83</td>\n",
              "      <td>1.83</td>\n",
              "      <td>3.00</td>\n",
              "      <td>4.50</td>\n",
              "      <td>1</td>\n",
              "      <td>0</td>\n",
              "    </tr>\n",
              "    <tr>\n",
              "      <th>1</th>\n",
              "      <td>6</td>\n",
              "      <td>False</td>\n",
              "      <td>23.0</td>\n",
              "      <td>3</td>\n",
              "      <td>4</td>\n",
              "      <td>3</td>\n",
              "      <td>3</td>\n",
              "      <td>4.0</td>\n",
              "      <td>3.50</td>\n",
              "      <td>7.00</td>\n",
              "      <td>2.0</td>\n",
              "      <td>4.0</td>\n",
              "      <td>4.00</td>\n",
              "      <td>4.25</td>\n",
              "      <td>3.33</td>\n",
              "      <td>3.00</td>\n",
              "      <td>3.83</td>\n",
              "      <td>2.67</td>\n",
              "      <td>2.67</td>\n",
              "      <td>3.67</td>\n",
              "      <td>4.50</td>\n",
              "      <td>1</td>\n",
              "      <td>0</td>\n",
              "    </tr>\n",
              "    <tr>\n",
              "      <th>2</th>\n",
              "      <td>3</td>\n",
              "      <td>False</td>\n",
              "      <td>20.0</td>\n",
              "      <td>3</td>\n",
              "      <td>3</td>\n",
              "      <td>4</td>\n",
              "      <td>2</td>\n",
              "      <td>2.5</td>\n",
              "      <td>5.00</td>\n",
              "      <td>3.00</td>\n",
              "      <td>4.5</td>\n",
              "      <td>2.0</td>\n",
              "      <td>3.25</td>\n",
              "      <td>2.50</td>\n",
              "      <td>3.83</td>\n",
              "      <td>3.17</td>\n",
              "      <td>3.67</td>\n",
              "      <td>4.67</td>\n",
              "      <td>3.33</td>\n",
              "      <td>3.33</td>\n",
              "      <td>5.00</td>\n",
              "      <td>1</td>\n",
              "      <td>0</td>\n",
              "    </tr>\n",
              "    <tr>\n",
              "      <th>3</th>\n",
              "      <td>5</td>\n",
              "      <td>False</td>\n",
              "      <td>16.0</td>\n",
              "      <td>3</td>\n",
              "      <td>2</td>\n",
              "      <td>3</td>\n",
              "      <td>3</td>\n",
              "      <td>3.0</td>\n",
              "      <td>3.25</td>\n",
              "      <td>5.67</td>\n",
              "      <td>5.0</td>\n",
              "      <td>5.0</td>\n",
              "      <td>4.50</td>\n",
              "      <td>4.25</td>\n",
              "      <td>3.50</td>\n",
              "      <td>2.67</td>\n",
              "      <td>4.83</td>\n",
              "      <td>3.83</td>\n",
              "      <td>2.33</td>\n",
              "      <td>3.33</td>\n",
              "      <td>4.50</td>\n",
              "      <td>1</td>\n",
              "      <td>0</td>\n",
              "    </tr>\n",
              "    <tr>\n",
              "      <th>4</th>\n",
              "      <td>4</td>\n",
              "      <td>False</td>\n",
              "      <td>21.0</td>\n",
              "      <td>3</td>\n",
              "      <td>NaN</td>\n",
              "      <td>3</td>\n",
              "      <td>NaN</td>\n",
              "      <td>5.0</td>\n",
              "      <td>3.50</td>\n",
              "      <td>5.67</td>\n",
              "      <td>2.5</td>\n",
              "      <td>2.0</td>\n",
              "      <td>4.25</td>\n",
              "      <td>3.75</td>\n",
              "      <td>4.83</td>\n",
              "      <td>4.00</td>\n",
              "      <td>4.83</td>\n",
              "      <td>3.83</td>\n",
              "      <td>2.67</td>\n",
              "      <td>3.67</td>\n",
              "      <td>4.67</td>\n",
              "      <td>1</td>\n",
              "      <td>0</td>\n",
              "    </tr>\n",
              "  </tbody>\n",
              "</table>\n",
              "</div>"
            ],
            "text/plain": [
              "  immigration_attitude  tendency_immigration   age  ... mac_property woman man\n",
              "0                    6                  True  21.0  ...         4.50     1   0\n",
              "1                    6                 False  23.0  ...         4.50     1   0\n",
              "2                    3                 False  20.0  ...         5.00     1   0\n",
              "3                    5                 False  16.0  ...         4.50     1   0\n",
              "4                    4                 False  21.0  ...         4.67     1   0\n",
              "\n",
              "[5 rows x 23 columns]"
            ]
          },
          "metadata": {
            "tags": []
          },
          "execution_count": 21
        }
      ]
    },
    {
      "cell_type": "code",
      "metadata": {
        "id": "ZHKQz5QUZyod",
        "colab": {
          "base_uri": "https://localhost:8080/"
        },
        "outputId": "477aad26-c5a8-4f28-cad3-2d66ec56470d"
      },
      "source": [
        "category_type = pd.CategoricalDtype(categories=['1', '2', '3', '4', '5', '6', '7'], ordered=True)\n",
        "# df['tendency_immigration'].astype(category_type)\n",
        "df['education'].astype(category_type)\n",
        "df['economic'].astype(category_type)\n",
        "df['religiosity'].astype(category_type)\n",
        "df['political'].astype(category_type)\n",
        "df['immigration_attitude'].astype(category_type)"
      ],
      "execution_count": null,
      "outputs": [
        {
          "output_type": "execute_result",
          "data": {
            "text/plain": [
              "0      6\n",
              "1      6\n",
              "2      3\n",
              "3      5\n",
              "4      4\n",
              "      ..\n",
              "329    7\n",
              "330    7\n",
              "331    7\n",
              "332    5\n",
              "333    6\n",
              "Name: immigration_attitude, Length: 330, dtype: category\n",
              "Categories (7, object): ['1' < '2' < '3' < '4' < '5' < '6' < '7']"
            ]
          },
          "metadata": {
            "tags": []
          },
          "execution_count": 22
        }
      ]
    },
    {
      "cell_type": "markdown",
      "metadata": {
        "id": "yvlO8RKh-sj6"
      },
      "source": [
        "## Create Training and Test Sets"
      ]
    },
    {
      "cell_type": "code",
      "metadata": {
        "id": "fhLhxt_t-vvI",
        "colab": {
          "base_uri": "https://localhost:8080/"
        },
        "outputId": "b6208810-1627-4d7f-dfb6-45f936456036"
      },
      "source": [
        "# Split-out validation dataset\n",
        "X = df[list(df.columns)]\n",
        "X.drop(['tendency_immigration'], axis=1, inplace=True)\n",
        "y = df['tendency_immigration']\n",
        "X_train, X_test, y_train, y_test = train_test_split(X, y, test_size=0.1, random_state=7)\n",
        "# describes info about train and test set \n",
        "print(\"X_train dataset: \", X_train.shape) \n",
        "print(\"y_train dataset: \", y_train.shape) \n",
        "print(\"X_test dataset: \", X_test.shape) \n",
        "print(\"y_test dataset: \", y_test.shape) "
      ],
      "execution_count": null,
      "outputs": [
        {
          "output_type": "stream",
          "text": [
            "X_train dataset:  (297, 22)\n",
            "y_train dataset:  (297,)\n",
            "X_test dataset:  (33, 22)\n",
            "y_test dataset:  (33,)\n"
          ],
          "name": "stdout"
        }
      ]
    },
    {
      "cell_type": "markdown",
      "metadata": {
        "id": "xYTCOuHbEQhr"
      },
      "source": [
        "## Handle Missing Values"
      ]
    },
    {
      "cell_type": "code",
      "metadata": {
        "id": "-TCNclXoETUt",
        "colab": {
          "base_uri": "https://localhost:8080/"
        },
        "outputId": "5075965f-d177-438a-98af-94e1ecd28c66"
      },
      "source": [
        "# fill NAN 'age' in test and train sets with mean value of train set\n",
        "X_train['age'].fillna(np. floor(np.nanmean(X_train['age'])), inplace = True)\n",
        "X_test['age'].fillna(np.nanmean(X_train['age']), inplace = True)\n",
        "\n",
        "# check all NAN values filled in 'age' column\n",
        "print(X_train['age'].isnull().sum())\n",
        "print(X_test['age'].isnull().sum())"
      ],
      "execution_count": null,
      "outputs": [
        {
          "output_type": "stream",
          "text": [
            "0\n",
            "0\n"
          ],
          "name": "stdout"
        }
      ]
    },
    {
      "cell_type": "code",
      "metadata": {
        "id": "sBE-nbphFtUQ",
        "colab": {
          "base_uri": "https://localhost:8080/"
        },
        "outputId": "c2d680e1-be7a-4847-c756-0dfb3cf1f646"
      },
      "source": [
        "# find possible values for economic column\n",
        "print(df['economic'].unique())"
      ],
      "execution_count": null,
      "outputs": [
        {
          "output_type": "stream",
          "text": [
            "['4' '3' '2' nan '5' '1']\n"
          ],
          "name": "stdout"
        }
      ]
    },
    {
      "cell_type": "code",
      "metadata": {
        "id": "rpCFpGghF9M9",
        "colab": {
          "base_uri": "https://localhost:8080/"
        },
        "outputId": "37438a89-12cc-48ca-c3dd-7e6eb26df173"
      },
      "source": [
        "# fill NAN 'economic' in test and train sets with middle of possible values(3)\n",
        "X_train['economic'].fillna('3', inplace = True)\n",
        "X_test['economic'].fillna('3', inplace = True)\n",
        "\n",
        "# check all NAN values filled in 'economic' column\n",
        "print(X_train['economic'].isnull().sum())\n",
        "print(X_test['economic'].isnull().sum())"
      ],
      "execution_count": null,
      "outputs": [
        {
          "output_type": "stream",
          "text": [
            "0\n",
            "0\n"
          ],
          "name": "stdout"
        }
      ]
    },
    {
      "cell_type": "code",
      "metadata": {
        "id": "jMN7WDf4G7Yw",
        "colab": {
          "base_uri": "https://localhost:8080/"
        },
        "outputId": "363ecf6a-3919-47b7-ac8b-3e34bc4ef5cf"
      },
      "source": [
        "# find possible values for religiosity column\n",
        "print(df['religiosity'].unique())"
      ],
      "execution_count": null,
      "outputs": [
        {
          "output_type": "stream",
          "text": [
            "['2' '3' '4' '1' '5' nan]\n"
          ],
          "name": "stdout"
        }
      ]
    },
    {
      "cell_type": "code",
      "metadata": {
        "id": "VrSRTfHMFuve",
        "colab": {
          "base_uri": "https://localhost:8080/"
        },
        "outputId": "c60b3f8b-3a23-4c5d-a9c3-793f0d54afc2"
      },
      "source": [
        "# fill NAN 'religiosity' in test and train sets with middle of possible values(3)\n",
        "X_train['religiosity'].fillna('3', inplace = True)\n",
        "X_test['religiosity'].fillna('3', inplace = True)\n",
        "\n",
        "# check all NAN values filled in 'religiosity' column\n",
        "print(X_train['religiosity'].isnull().sum())\n",
        "print(X_test['religiosity'].isnull().sum())"
      ],
      "execution_count": null,
      "outputs": [
        {
          "output_type": "stream",
          "text": [
            "0\n",
            "0\n"
          ],
          "name": "stdout"
        }
      ]
    },
    {
      "cell_type": "code",
      "metadata": {
        "id": "wuxagmc1HI4u",
        "colab": {
          "base_uri": "https://localhost:8080/"
        },
        "outputId": "d022079d-aca5-45e5-c4c3-5ef2f21ae20d"
      },
      "source": [
        "# find possible values for political column\n",
        "print(df['political'].unique())"
      ],
      "execution_count": null,
      "outputs": [
        {
          "output_type": "stream",
          "text": [
            "['5' '3' '2' nan '4' '1']\n"
          ],
          "name": "stdout"
        }
      ]
    },
    {
      "cell_type": "code",
      "metadata": {
        "id": "Fu8T-3fIFvCa",
        "colab": {
          "base_uri": "https://localhost:8080/"
        },
        "outputId": "709949d5-4fe6-407b-fb42-900e11bc3671"
      },
      "source": [
        "# fill NAN 'political' in test and train sets with middle of possible values(3)\n",
        "X_train['political'].fillna('3', inplace = True)\n",
        "X_test['political'].fillna('3', inplace = True)\n",
        "\n",
        "# check all NAN values filled in 'political' column\n",
        "print(X_train['political'].isnull().sum())\n",
        "print(X_test['political'].isnull().sum())"
      ],
      "execution_count": null,
      "outputs": [
        {
          "output_type": "stream",
          "text": [
            "0\n",
            "0\n"
          ],
          "name": "stdout"
        }
      ]
    },
    {
      "cell_type": "code",
      "metadata": {
        "colab": {
          "base_uri": "https://localhost:8080/"
        },
        "id": "gp-WUnOO6Srp",
        "outputId": "0dc699f1-ed3f-4ca0-d33c-8e3e135b4573"
      },
      "source": [
        "X_train['img_deference'].fillna(np.nanmean(X_train['img_deference']), inplace = True)\n",
        "X_test['img_deference'].fillna(np.nanmean(X_train['img_deference']), inplace = True)\n",
        "\n",
        "# check all NAN values filled in 'political' column\n",
        "print(X_train['img_deference'].isnull().sum())\n",
        "print(X_test['img_deference'].isnull().sum())"
      ],
      "execution_count": null,
      "outputs": [
        {
          "output_type": "stream",
          "text": [
            "0\n",
            "0\n"
          ],
          "name": "stdout"
        }
      ]
    },
    {
      "cell_type": "code",
      "metadata": {
        "colab": {
          "base_uri": "https://localhost:8080/"
        },
        "id": "uuTCWFT66lI1",
        "outputId": "791fcb64-e3a2-4d3c-db44-57a277b129be"
      },
      "source": [
        "X_train['img_heroism'].fillna(np.nanmean(X_train['img_heroism']), inplace = True)\n",
        "X_test['img_heroism'].fillna(np.nanmean(X_train['img_heroism']), inplace = True)\n",
        "\n",
        "# check all NAN values filled in 'political' column\n",
        "print(X_train['img_heroism'].isnull().sum())\n",
        "print(X_test['img_heroism'].isnull().sum())"
      ],
      "execution_count": null,
      "outputs": [
        {
          "output_type": "stream",
          "text": [
            "0\n",
            "0\n"
          ],
          "name": "stdout"
        }
      ]
    },
    {
      "cell_type": "code",
      "metadata": {
        "colab": {
          "base_uri": "https://localhost:8080/"
        },
        "id": "46uXosEo6rfQ",
        "outputId": "b473a680-2701-4610-eb1e-cd258c7ba67b"
      },
      "source": [
        "X_train['img_family'].fillna(np.nanmean(X_train['img_family']), inplace = True)\n",
        "X_test['img_family'].fillna(np.nanmean(X_train['img_family']), inplace = True)\n",
        "\n",
        "# check all NAN values filled in 'political' column\n",
        "print(X_train['img_family'].isnull().sum())\n",
        "print(X_test['img_family'].isnull().sum())"
      ],
      "execution_count": null,
      "outputs": [
        {
          "output_type": "stream",
          "text": [
            "0\n",
            "0\n"
          ],
          "name": "stdout"
        }
      ]
    },
    {
      "cell_type": "code",
      "metadata": {
        "colab": {
          "base_uri": "https://localhost:8080/"
        },
        "id": "cw3M0AFE6vJp",
        "outputId": "d9db306c-5504-491b-87aa-f8a8f1030087"
      },
      "source": [
        "X_train['img_fairness'].fillna(np.nanmean(X_train['img_fairness']), inplace = True)\n",
        "X_test['img_fairness'].fillna(np.nanmean(X_train['img_fairness']), inplace = True)\n",
        "\n",
        "# check all NAN values filled in 'political' column\n",
        "print(X_train['img_fairness'].isnull().sum())\n",
        "print(X_test['img_fairness'].isnull().sum())"
      ],
      "execution_count": null,
      "outputs": [
        {
          "output_type": "stream",
          "text": [
            "0\n",
            "0\n"
          ],
          "name": "stdout"
        }
      ]
    },
    {
      "cell_type": "code",
      "metadata": {
        "colab": {
          "base_uri": "https://localhost:8080/"
        },
        "id": "_P_7_rrm60cI",
        "outputId": "022f0deb-9652-4cc7-844c-0b3f6afa4b4e"
      },
      "source": [
        "X_train['img_property'].fillna(np.nanmean(X_train['img_property']), inplace = True)\n",
        "X_test['img_property'].fillna(np.nanmean(X_train['img_property']), inplace = True)\n",
        "\n",
        "# check all NAN values filled in 'political' column\n",
        "print(X_train['img_property'].isnull().sum())\n",
        "print(X_test['img_property'].isnull().sum())"
      ],
      "execution_count": null,
      "outputs": [
        {
          "output_type": "stream",
          "text": [
            "0\n",
            "0\n"
          ],
          "name": "stdout"
        }
      ]
    },
    {
      "cell_type": "code",
      "metadata": {
        "colab": {
          "base_uri": "https://localhost:8080/"
        },
        "id": "8-GBGwRp65Mr",
        "outputId": "40339d1a-ee28-42d8-ccee-b052ced03196"
      },
      "source": [
        "X_train['img_Reciprocity'].fillna(np.nanmean(X_train['img_Reciprocity']), inplace = True)\n",
        "X_test['img_Reciprocity'].fillna(np.nanmean(X_train['img_Reciprocity']), inplace = True)\n",
        "\n",
        "# check all NAN values filled in 'political' column\n",
        "print(X_train['img_Reciprocity'].isnull().sum())\n",
        "print(X_test['img_Reciprocity'].isnull().sum())"
      ],
      "execution_count": null,
      "outputs": [
        {
          "output_type": "stream",
          "text": [
            "0\n",
            "0\n"
          ],
          "name": "stdout"
        }
      ]
    },
    {
      "cell_type": "code",
      "metadata": {
        "id": "RJ9rI0zTHYL2",
        "colab": {
          "base_uri": "https://localhost:8080/"
        },
        "outputId": "fbc495f8-2afa-4e7b-e70d-bc8441856c60"
      },
      "source": [
        "missing_table(X_train)"
      ],
      "execution_count": null,
      "outputs": [
        {
          "output_type": "execute_result",
          "data": {
            "text/html": [
              "<div>\n",
              "<style scoped>\n",
              "    .dataframe tbody tr th:only-of-type {\n",
              "        vertical-align: middle;\n",
              "    }\n",
              "\n",
              "    .dataframe tbody tr th {\n",
              "        vertical-align: top;\n",
              "    }\n",
              "\n",
              "    .dataframe thead th {\n",
              "        text-align: right;\n",
              "    }\n",
              "</style>\n",
              "<table border=\"1\" class=\"dataframe\">\n",
              "  <thead>\n",
              "    <tr style=\"text-align: right;\">\n",
              "      <th></th>\n",
              "      <th>man</th>\n",
              "      <th>woman</th>\n",
              "      <th>age</th>\n",
              "      <th>education</th>\n",
              "      <th>economic</th>\n",
              "      <th>religiosity</th>\n",
              "      <th>political</th>\n",
              "      <th>img_family</th>\n",
              "      <th>img_group</th>\n",
              "      <th>img_Reciprocity</th>\n",
              "      <th>img_heroism</th>\n",
              "      <th>img_deference</th>\n",
              "      <th>img_fairness</th>\n",
              "      <th>img_property</th>\n",
              "      <th>mac_family</th>\n",
              "      <th>mac_group</th>\n",
              "      <th>mac_reciprocity</th>\n",
              "      <th>mac_heroism</th>\n",
              "      <th>mac_deference</th>\n",
              "      <th>mac_fairness</th>\n",
              "      <th>mac_property</th>\n",
              "      <th>immigration_attitude</th>\n",
              "    </tr>\n",
              "  </thead>\n",
              "  <tbody>\n",
              "    <tr>\n",
              "      <th>total</th>\n",
              "      <td>0.0</td>\n",
              "      <td>0.0</td>\n",
              "      <td>0.0</td>\n",
              "      <td>0.0</td>\n",
              "      <td>0.0</td>\n",
              "      <td>0.0</td>\n",
              "      <td>0.0</td>\n",
              "      <td>0.0</td>\n",
              "      <td>0.0</td>\n",
              "      <td>0.0</td>\n",
              "      <td>0.0</td>\n",
              "      <td>0.0</td>\n",
              "      <td>0.0</td>\n",
              "      <td>0.0</td>\n",
              "      <td>0.0</td>\n",
              "      <td>0.0</td>\n",
              "      <td>0.0</td>\n",
              "      <td>0.0</td>\n",
              "      <td>0.0</td>\n",
              "      <td>0.0</td>\n",
              "      <td>0.0</td>\n",
              "      <td>0.0</td>\n",
              "    </tr>\n",
              "    <tr>\n",
              "      <th>percent</th>\n",
              "      <td>0.0</td>\n",
              "      <td>0.0</td>\n",
              "      <td>0.0</td>\n",
              "      <td>0.0</td>\n",
              "      <td>0.0</td>\n",
              "      <td>0.0</td>\n",
              "      <td>0.0</td>\n",
              "      <td>0.0</td>\n",
              "      <td>0.0</td>\n",
              "      <td>0.0</td>\n",
              "      <td>0.0</td>\n",
              "      <td>0.0</td>\n",
              "      <td>0.0</td>\n",
              "      <td>0.0</td>\n",
              "      <td>0.0</td>\n",
              "      <td>0.0</td>\n",
              "      <td>0.0</td>\n",
              "      <td>0.0</td>\n",
              "      <td>0.0</td>\n",
              "      <td>0.0</td>\n",
              "      <td>0.0</td>\n",
              "      <td>0.0</td>\n",
              "    </tr>\n",
              "  </tbody>\n",
              "</table>\n",
              "</div>"
            ],
            "text/plain": [
              "         man  woman  age  ...  mac_fairness  mac_property  immigration_attitude\n",
              "total    0.0    0.0  0.0  ...           0.0           0.0                   0.0\n",
              "percent  0.0    0.0  0.0  ...           0.0           0.0                   0.0\n",
              "\n",
              "[2 rows x 22 columns]"
            ]
          },
          "metadata": {
            "tags": []
          },
          "execution_count": 37
        }
      ]
    },
    {
      "cell_type": "code",
      "metadata": {
        "id": "y6QA9skCHj4G",
        "colab": {
          "base_uri": "https://localhost:8080/"
        },
        "outputId": "29a81785-681c-4006-ba74-1da7c78250c7"
      },
      "source": [
        "missing_table(X_test)"
      ],
      "execution_count": null,
      "outputs": [
        {
          "output_type": "execute_result",
          "data": {
            "text/html": [
              "<div>\n",
              "<style scoped>\n",
              "    .dataframe tbody tr th:only-of-type {\n",
              "        vertical-align: middle;\n",
              "    }\n",
              "\n",
              "    .dataframe tbody tr th {\n",
              "        vertical-align: top;\n",
              "    }\n",
              "\n",
              "    .dataframe thead th {\n",
              "        text-align: right;\n",
              "    }\n",
              "</style>\n",
              "<table border=\"1\" class=\"dataframe\">\n",
              "  <thead>\n",
              "    <tr style=\"text-align: right;\">\n",
              "      <th></th>\n",
              "      <th>man</th>\n",
              "      <th>woman</th>\n",
              "      <th>age</th>\n",
              "      <th>education</th>\n",
              "      <th>economic</th>\n",
              "      <th>religiosity</th>\n",
              "      <th>political</th>\n",
              "      <th>img_family</th>\n",
              "      <th>img_group</th>\n",
              "      <th>img_Reciprocity</th>\n",
              "      <th>img_heroism</th>\n",
              "      <th>img_deference</th>\n",
              "      <th>img_fairness</th>\n",
              "      <th>img_property</th>\n",
              "      <th>mac_family</th>\n",
              "      <th>mac_group</th>\n",
              "      <th>mac_reciprocity</th>\n",
              "      <th>mac_heroism</th>\n",
              "      <th>mac_deference</th>\n",
              "      <th>mac_fairness</th>\n",
              "      <th>mac_property</th>\n",
              "      <th>immigration_attitude</th>\n",
              "    </tr>\n",
              "  </thead>\n",
              "  <tbody>\n",
              "    <tr>\n",
              "      <th>total</th>\n",
              "      <td>0.0</td>\n",
              "      <td>0.0</td>\n",
              "      <td>0.0</td>\n",
              "      <td>0.0</td>\n",
              "      <td>0.0</td>\n",
              "      <td>0.0</td>\n",
              "      <td>0.0</td>\n",
              "      <td>0.0</td>\n",
              "      <td>0.0</td>\n",
              "      <td>0.0</td>\n",
              "      <td>0.0</td>\n",
              "      <td>0.0</td>\n",
              "      <td>0.0</td>\n",
              "      <td>0.0</td>\n",
              "      <td>0.0</td>\n",
              "      <td>0.0</td>\n",
              "      <td>0.0</td>\n",
              "      <td>0.0</td>\n",
              "      <td>0.0</td>\n",
              "      <td>0.0</td>\n",
              "      <td>0.0</td>\n",
              "      <td>0.0</td>\n",
              "    </tr>\n",
              "    <tr>\n",
              "      <th>percent</th>\n",
              "      <td>0.0</td>\n",
              "      <td>0.0</td>\n",
              "      <td>0.0</td>\n",
              "      <td>0.0</td>\n",
              "      <td>0.0</td>\n",
              "      <td>0.0</td>\n",
              "      <td>0.0</td>\n",
              "      <td>0.0</td>\n",
              "      <td>0.0</td>\n",
              "      <td>0.0</td>\n",
              "      <td>0.0</td>\n",
              "      <td>0.0</td>\n",
              "      <td>0.0</td>\n",
              "      <td>0.0</td>\n",
              "      <td>0.0</td>\n",
              "      <td>0.0</td>\n",
              "      <td>0.0</td>\n",
              "      <td>0.0</td>\n",
              "      <td>0.0</td>\n",
              "      <td>0.0</td>\n",
              "      <td>0.0</td>\n",
              "      <td>0.0</td>\n",
              "    </tr>\n",
              "  </tbody>\n",
              "</table>\n",
              "</div>"
            ],
            "text/plain": [
              "         man  woman  age  ...  mac_fairness  mac_property  immigration_attitude\n",
              "total    0.0    0.0  0.0  ...           0.0           0.0                   0.0\n",
              "percent  0.0    0.0  0.0  ...           0.0           0.0                   0.0\n",
              "\n",
              "[2 rows x 22 columns]"
            ]
          },
          "metadata": {
            "tags": []
          },
          "execution_count": 38
        }
      ]
    },
    {
      "cell_type": "code",
      "metadata": {
        "id": "dm_BtBO4vBWo",
        "colab": {
          "base_uri": "https://localhost:8080/"
        },
        "outputId": "73326c04-e28b-4612-cb31-3995bbe31612"
      },
      "source": [
        "X_train.head()"
      ],
      "execution_count": null,
      "outputs": [
        {
          "output_type": "execute_result",
          "data": {
            "text/html": [
              "<div>\n",
              "<style scoped>\n",
              "    .dataframe tbody tr th:only-of-type {\n",
              "        vertical-align: middle;\n",
              "    }\n",
              "\n",
              "    .dataframe tbody tr th {\n",
              "        vertical-align: top;\n",
              "    }\n",
              "\n",
              "    .dataframe thead th {\n",
              "        text-align: right;\n",
              "    }\n",
              "</style>\n",
              "<table border=\"1\" class=\"dataframe\">\n",
              "  <thead>\n",
              "    <tr style=\"text-align: right;\">\n",
              "      <th></th>\n",
              "      <th>immigration_attitude</th>\n",
              "      <th>age</th>\n",
              "      <th>education</th>\n",
              "      <th>economic</th>\n",
              "      <th>religiosity</th>\n",
              "      <th>political</th>\n",
              "      <th>img_family</th>\n",
              "      <th>img_group</th>\n",
              "      <th>img_Reciprocity</th>\n",
              "      <th>img_heroism</th>\n",
              "      <th>img_deference</th>\n",
              "      <th>img_fairness</th>\n",
              "      <th>img_property</th>\n",
              "      <th>mac_family</th>\n",
              "      <th>mac_group</th>\n",
              "      <th>mac_reciprocity</th>\n",
              "      <th>mac_heroism</th>\n",
              "      <th>mac_deference</th>\n",
              "      <th>mac_fairness</th>\n",
              "      <th>mac_property</th>\n",
              "      <th>woman</th>\n",
              "      <th>man</th>\n",
              "    </tr>\n",
              "  </thead>\n",
              "  <tbody>\n",
              "    <tr>\n",
              "      <th>328</th>\n",
              "      <td>6</td>\n",
              "      <td>25.0</td>\n",
              "      <td>4</td>\n",
              "      <td>3</td>\n",
              "      <td>3</td>\n",
              "      <td>3</td>\n",
              "      <td>4.0</td>\n",
              "      <td>4.33</td>\n",
              "      <td>6.22</td>\n",
              "      <td>3.33</td>\n",
              "      <td>2.67</td>\n",
              "      <td>4.33</td>\n",
              "      <td>3.33</td>\n",
              "      <td>3.83</td>\n",
              "      <td>3.83</td>\n",
              "      <td>4.33</td>\n",
              "      <td>3.00</td>\n",
              "      <td>1.83</td>\n",
              "      <td>4.50</td>\n",
              "      <td>3.83</td>\n",
              "      <td>1</td>\n",
              "      <td>0</td>\n",
              "    </tr>\n",
              "    <tr>\n",
              "      <th>134</th>\n",
              "      <td>1</td>\n",
              "      <td>18.0</td>\n",
              "      <td>3</td>\n",
              "      <td>2</td>\n",
              "      <td>4</td>\n",
              "      <td>2</td>\n",
              "      <td>4.5</td>\n",
              "      <td>6.75</td>\n",
              "      <td>3.33</td>\n",
              "      <td>6.50</td>\n",
              "      <td>1.00</td>\n",
              "      <td>4.00</td>\n",
              "      <td>4.00</td>\n",
              "      <td>4.17</td>\n",
              "      <td>4.17</td>\n",
              "      <td>4.33</td>\n",
              "      <td>4.17</td>\n",
              "      <td>3.50</td>\n",
              "      <td>4.17</td>\n",
              "      <td>4.00</td>\n",
              "      <td>0</td>\n",
              "      <td>1</td>\n",
              "    </tr>\n",
              "    <tr>\n",
              "      <th>320</th>\n",
              "      <td>7</td>\n",
              "      <td>24.0</td>\n",
              "      <td>4</td>\n",
              "      <td>3</td>\n",
              "      <td>4</td>\n",
              "      <td>3</td>\n",
              "      <td>2.0</td>\n",
              "      <td>4.00</td>\n",
              "      <td>6.67</td>\n",
              "      <td>3.33</td>\n",
              "      <td>6.67</td>\n",
              "      <td>4.00</td>\n",
              "      <td>4.00</td>\n",
              "      <td>3.67</td>\n",
              "      <td>3.17</td>\n",
              "      <td>4.50</td>\n",
              "      <td>3.67</td>\n",
              "      <td>1.80</td>\n",
              "      <td>4.50</td>\n",
              "      <td>4.33</td>\n",
              "      <td>1</td>\n",
              "      <td>0</td>\n",
              "    </tr>\n",
              "    <tr>\n",
              "      <th>225</th>\n",
              "      <td>7</td>\n",
              "      <td>23.0</td>\n",
              "      <td>4</td>\n",
              "      <td>3</td>\n",
              "      <td>3</td>\n",
              "      <td>2</td>\n",
              "      <td>4.0</td>\n",
              "      <td>3.00</td>\n",
              "      <td>4.00</td>\n",
              "      <td>4.67</td>\n",
              "      <td>5.33</td>\n",
              "      <td>3.33</td>\n",
              "      <td>4.00</td>\n",
              "      <td>3.83</td>\n",
              "      <td>3.33</td>\n",
              "      <td>3.67</td>\n",
              "      <td>3.17</td>\n",
              "      <td>2.83</td>\n",
              "      <td>3.50</td>\n",
              "      <td>2.33</td>\n",
              "      <td>1</td>\n",
              "      <td>0</td>\n",
              "    </tr>\n",
              "    <tr>\n",
              "      <th>172</th>\n",
              "      <td>7</td>\n",
              "      <td>21.0</td>\n",
              "      <td>3</td>\n",
              "      <td>3</td>\n",
              "      <td>2</td>\n",
              "      <td>3</td>\n",
              "      <td>3.5</td>\n",
              "      <td>2.25</td>\n",
              "      <td>6.67</td>\n",
              "      <td>1.50</td>\n",
              "      <td>5.00</td>\n",
              "      <td>5.25</td>\n",
              "      <td>4.50</td>\n",
              "      <td>2.00</td>\n",
              "      <td>3.00</td>\n",
              "      <td>4.50</td>\n",
              "      <td>2.83</td>\n",
              "      <td>1.67</td>\n",
              "      <td>3.83</td>\n",
              "      <td>3.50</td>\n",
              "      <td>1</td>\n",
              "      <td>0</td>\n",
              "    </tr>\n",
              "  </tbody>\n",
              "</table>\n",
              "</div>"
            ],
            "text/plain": [
              "    immigration_attitude   age education  ... mac_property woman man\n",
              "328                    6  25.0         4  ...         3.83     1   0\n",
              "134                    1  18.0         3  ...         4.00     0   1\n",
              "320                    7  24.0         4  ...         4.33     1   0\n",
              "225                    7  23.0         4  ...         2.33     1   0\n",
              "172                    7  21.0         3  ...         3.50     1   0\n",
              "\n",
              "[5 rows x 22 columns]"
            ]
          },
          "metadata": {
            "tags": []
          },
          "execution_count": 39
        }
      ]
    },
    {
      "cell_type": "markdown",
      "metadata": {
        "id": "sqtQSovhPXDI"
      },
      "source": [
        "## Feature Extraction\n"
      ]
    },
    {
      "cell_type": "code",
      "metadata": {
        "id": "oVdCDcj1PWga",
        "colab": {
          "base_uri": "https://localhost:8080/"
        },
        "outputId": "260a7042-58b8-4bb5-96a6-5adc86c390cb"
      },
      "source": [
        "X_train['age_eco_tend'] = ~((X_train['age'] > 30) & (X_train['economic'] < str(4)))\n",
        "X_test['age_eco_tend'] = ~((X_test['age'] > 30) & (X_test['economic'] < str(4)))\n",
        "\n",
        "X_train.head(10)"
      ],
      "execution_count": null,
      "outputs": [
        {
          "output_type": "execute_result",
          "data": {
            "text/html": [
              "<div>\n",
              "<style scoped>\n",
              "    .dataframe tbody tr th:only-of-type {\n",
              "        vertical-align: middle;\n",
              "    }\n",
              "\n",
              "    .dataframe tbody tr th {\n",
              "        vertical-align: top;\n",
              "    }\n",
              "\n",
              "    .dataframe thead th {\n",
              "        text-align: right;\n",
              "    }\n",
              "</style>\n",
              "<table border=\"1\" class=\"dataframe\">\n",
              "  <thead>\n",
              "    <tr style=\"text-align: right;\">\n",
              "      <th></th>\n",
              "      <th>immigration_attitude</th>\n",
              "      <th>age</th>\n",
              "      <th>education</th>\n",
              "      <th>economic</th>\n",
              "      <th>religiosity</th>\n",
              "      <th>political</th>\n",
              "      <th>img_family</th>\n",
              "      <th>img_group</th>\n",
              "      <th>img_Reciprocity</th>\n",
              "      <th>img_heroism</th>\n",
              "      <th>img_deference</th>\n",
              "      <th>img_fairness</th>\n",
              "      <th>img_property</th>\n",
              "      <th>mac_family</th>\n",
              "      <th>mac_group</th>\n",
              "      <th>mac_reciprocity</th>\n",
              "      <th>mac_heroism</th>\n",
              "      <th>mac_deference</th>\n",
              "      <th>mac_fairness</th>\n",
              "      <th>mac_property</th>\n",
              "      <th>woman</th>\n",
              "      <th>man</th>\n",
              "      <th>age_eco_tend</th>\n",
              "    </tr>\n",
              "  </thead>\n",
              "  <tbody>\n",
              "    <tr>\n",
              "      <th>328</th>\n",
              "      <td>6</td>\n",
              "      <td>25.0</td>\n",
              "      <td>4</td>\n",
              "      <td>3</td>\n",
              "      <td>3</td>\n",
              "      <td>3</td>\n",
              "      <td>4.0</td>\n",
              "      <td>4.33</td>\n",
              "      <td>6.22</td>\n",
              "      <td>3.33</td>\n",
              "      <td>2.670000</td>\n",
              "      <td>4.33000</td>\n",
              "      <td>3.33</td>\n",
              "      <td>3.83</td>\n",
              "      <td>3.83</td>\n",
              "      <td>4.33</td>\n",
              "      <td>3.00</td>\n",
              "      <td>1.83</td>\n",
              "      <td>4.50</td>\n",
              "      <td>3.83</td>\n",
              "      <td>1</td>\n",
              "      <td>0</td>\n",
              "      <td>True</td>\n",
              "    </tr>\n",
              "    <tr>\n",
              "      <th>134</th>\n",
              "      <td>1</td>\n",
              "      <td>18.0</td>\n",
              "      <td>3</td>\n",
              "      <td>2</td>\n",
              "      <td>4</td>\n",
              "      <td>2</td>\n",
              "      <td>4.5</td>\n",
              "      <td>6.75</td>\n",
              "      <td>3.33</td>\n",
              "      <td>6.50</td>\n",
              "      <td>1.000000</td>\n",
              "      <td>4.00000</td>\n",
              "      <td>4.00</td>\n",
              "      <td>4.17</td>\n",
              "      <td>4.17</td>\n",
              "      <td>4.33</td>\n",
              "      <td>4.17</td>\n",
              "      <td>3.50</td>\n",
              "      <td>4.17</td>\n",
              "      <td>4.00</td>\n",
              "      <td>0</td>\n",
              "      <td>1</td>\n",
              "      <td>True</td>\n",
              "    </tr>\n",
              "    <tr>\n",
              "      <th>320</th>\n",
              "      <td>7</td>\n",
              "      <td>24.0</td>\n",
              "      <td>4</td>\n",
              "      <td>3</td>\n",
              "      <td>4</td>\n",
              "      <td>3</td>\n",
              "      <td>2.0</td>\n",
              "      <td>4.00</td>\n",
              "      <td>6.67</td>\n",
              "      <td>3.33</td>\n",
              "      <td>6.670000</td>\n",
              "      <td>4.00000</td>\n",
              "      <td>4.00</td>\n",
              "      <td>3.67</td>\n",
              "      <td>3.17</td>\n",
              "      <td>4.50</td>\n",
              "      <td>3.67</td>\n",
              "      <td>1.80</td>\n",
              "      <td>4.50</td>\n",
              "      <td>4.33</td>\n",
              "      <td>1</td>\n",
              "      <td>0</td>\n",
              "      <td>True</td>\n",
              "    </tr>\n",
              "    <tr>\n",
              "      <th>225</th>\n",
              "      <td>7</td>\n",
              "      <td>23.0</td>\n",
              "      <td>4</td>\n",
              "      <td>3</td>\n",
              "      <td>3</td>\n",
              "      <td>2</td>\n",
              "      <td>4.0</td>\n",
              "      <td>3.00</td>\n",
              "      <td>4.00</td>\n",
              "      <td>4.67</td>\n",
              "      <td>5.330000</td>\n",
              "      <td>3.33000</td>\n",
              "      <td>4.00</td>\n",
              "      <td>3.83</td>\n",
              "      <td>3.33</td>\n",
              "      <td>3.67</td>\n",
              "      <td>3.17</td>\n",
              "      <td>2.83</td>\n",
              "      <td>3.50</td>\n",
              "      <td>2.33</td>\n",
              "      <td>1</td>\n",
              "      <td>0</td>\n",
              "      <td>True</td>\n",
              "    </tr>\n",
              "    <tr>\n",
              "      <th>172</th>\n",
              "      <td>7</td>\n",
              "      <td>21.0</td>\n",
              "      <td>3</td>\n",
              "      <td>3</td>\n",
              "      <td>2</td>\n",
              "      <td>3</td>\n",
              "      <td>3.5</td>\n",
              "      <td>2.25</td>\n",
              "      <td>6.67</td>\n",
              "      <td>1.50</td>\n",
              "      <td>5.000000</td>\n",
              "      <td>5.25000</td>\n",
              "      <td>4.50</td>\n",
              "      <td>2.00</td>\n",
              "      <td>3.00</td>\n",
              "      <td>4.50</td>\n",
              "      <td>2.83</td>\n",
              "      <td>1.67</td>\n",
              "      <td>3.83</td>\n",
              "      <td>3.50</td>\n",
              "      <td>1</td>\n",
              "      <td>0</td>\n",
              "      <td>True</td>\n",
              "    </tr>\n",
              "    <tr>\n",
              "      <th>104</th>\n",
              "      <td>5</td>\n",
              "      <td>33.0</td>\n",
              "      <td>3</td>\n",
              "      <td>3</td>\n",
              "      <td>4</td>\n",
              "      <td>3</td>\n",
              "      <td>2.0</td>\n",
              "      <td>2.00</td>\n",
              "      <td>1.00</td>\n",
              "      <td>2.00</td>\n",
              "      <td>1.000000</td>\n",
              "      <td>4.30478</td>\n",
              "      <td>1.50</td>\n",
              "      <td>4.67</td>\n",
              "      <td>4.50</td>\n",
              "      <td>4.67</td>\n",
              "      <td>4.67</td>\n",
              "      <td>4.33</td>\n",
              "      <td>4.33</td>\n",
              "      <td>4.67</td>\n",
              "      <td>0</td>\n",
              "      <td>1</td>\n",
              "      <td>False</td>\n",
              "    </tr>\n",
              "    <tr>\n",
              "      <th>91</th>\n",
              "      <td>6</td>\n",
              "      <td>33.0</td>\n",
              "      <td>6</td>\n",
              "      <td>4</td>\n",
              "      <td>2</td>\n",
              "      <td>5</td>\n",
              "      <td>4.0</td>\n",
              "      <td>5.50</td>\n",
              "      <td>3.00</td>\n",
              "      <td>7.00</td>\n",
              "      <td>1.000000</td>\n",
              "      <td>2.50000</td>\n",
              "      <td>4.00</td>\n",
              "      <td>3.50</td>\n",
              "      <td>3.67</td>\n",
              "      <td>4.50</td>\n",
              "      <td>3.83</td>\n",
              "      <td>4.33</td>\n",
              "      <td>4.17</td>\n",
              "      <td>2.17</td>\n",
              "      <td>1</td>\n",
              "      <td>0</td>\n",
              "      <td>True</td>\n",
              "    </tr>\n",
              "    <tr>\n",
              "      <th>106</th>\n",
              "      <td>5</td>\n",
              "      <td>46.0</td>\n",
              "      <td>4</td>\n",
              "      <td>4</td>\n",
              "      <td>3</td>\n",
              "      <td>3</td>\n",
              "      <td>7.0</td>\n",
              "      <td>1.00</td>\n",
              "      <td>7.00</td>\n",
              "      <td>4.50</td>\n",
              "      <td>3.440603</td>\n",
              "      <td>2.25000</td>\n",
              "      <td>4.33</td>\n",
              "      <td>3.83</td>\n",
              "      <td>4.00</td>\n",
              "      <td>4.00</td>\n",
              "      <td>2.83</td>\n",
              "      <td>2.83</td>\n",
              "      <td>4.00</td>\n",
              "      <td>4.50</td>\n",
              "      <td>0</td>\n",
              "      <td>1</td>\n",
              "      <td>True</td>\n",
              "    </tr>\n",
              "    <tr>\n",
              "      <th>80</th>\n",
              "      <td>5</td>\n",
              "      <td>33.0</td>\n",
              "      <td>6</td>\n",
              "      <td>3</td>\n",
              "      <td>4</td>\n",
              "      <td>3</td>\n",
              "      <td>2.0</td>\n",
              "      <td>3.00</td>\n",
              "      <td>6.00</td>\n",
              "      <td>4.00</td>\n",
              "      <td>4.000000</td>\n",
              "      <td>3.75000</td>\n",
              "      <td>6.00</td>\n",
              "      <td>4.50</td>\n",
              "      <td>4.67</td>\n",
              "      <td>4.17</td>\n",
              "      <td>4.67</td>\n",
              "      <td>3.33</td>\n",
              "      <td>4.00</td>\n",
              "      <td>4.50</td>\n",
              "      <td>0</td>\n",
              "      <td>1</td>\n",
              "      <td>False</td>\n",
              "    </tr>\n",
              "    <tr>\n",
              "      <th>15</th>\n",
              "      <td>5</td>\n",
              "      <td>22.0</td>\n",
              "      <td>3</td>\n",
              "      <td>3</td>\n",
              "      <td>3</td>\n",
              "      <td>3</td>\n",
              "      <td>4.0</td>\n",
              "      <td>4.00</td>\n",
              "      <td>4.33</td>\n",
              "      <td>3.50</td>\n",
              "      <td>2.000000</td>\n",
              "      <td>3.25000</td>\n",
              "      <td>4.00</td>\n",
              "      <td>3.17</td>\n",
              "      <td>4.17</td>\n",
              "      <td>3.83</td>\n",
              "      <td>3.67</td>\n",
              "      <td>2.50</td>\n",
              "      <td>4.00</td>\n",
              "      <td>4.17</td>\n",
              "      <td>1</td>\n",
              "      <td>0</td>\n",
              "      <td>True</td>\n",
              "    </tr>\n",
              "  </tbody>\n",
              "</table>\n",
              "</div>"
            ],
            "text/plain": [
              "    immigration_attitude   age education  ... woman man age_eco_tend\n",
              "328                    6  25.0         4  ...     1   0         True\n",
              "134                    1  18.0         3  ...     0   1         True\n",
              "320                    7  24.0         4  ...     1   0         True\n",
              "225                    7  23.0         4  ...     1   0         True\n",
              "172                    7  21.0         3  ...     1   0         True\n",
              "104                    5  33.0         3  ...     0   1        False\n",
              "91                     6  33.0         6  ...     1   0         True\n",
              "106                    5  46.0         4  ...     0   1         True\n",
              "80                     5  33.0         6  ...     0   1        False\n",
              "15                     5  22.0         3  ...     1   0         True\n",
              "\n",
              "[10 rows x 23 columns]"
            ]
          },
          "metadata": {
            "tags": []
          },
          "execution_count": 40
        }
      ]
    },
    {
      "cell_type": "markdown",
      "metadata": {
        "id": "xc0ojnLstpQz"
      },
      "source": [
        "# Plots\n"
      ]
    },
    {
      "cell_type": "code",
      "metadata": {
        "colab": {
          "base_uri": "https://localhost:8080/"
        },
        "id": "gCPt4m4RGFIt",
        "outputId": "209fd1e1-4953-48bb-df04-9f2cf6bc2b39"
      },
      "source": [
        "plt.title('label balance in train set')\n",
        "X_train['education'].value_counts().sort_index().plot(kind='bar')\n",
        "plt.title('education balance')\n",
        "plt.xlabel('education values')\n",
        "plt.ylabel('amount per label')\n",
        "plt.show()"
      ],
      "execution_count": null,
      "outputs": [
        {
          "output_type": "display_data",
          "data": {
            "image/png": "[encoded data removed]",
            "text/plain": [
              "<Figure size 432x288 with 1 Axes>"
            ]
          },
          "metadata": {
            "tags": [],
            "needs_background": "light"
          }
        }
      ]
    },
    {
      "cell_type": "code",
      "metadata": {
        "colab": {
          "base_uri": "https://localhost:8080/"
        },
        "id": "trmIexs_sNHs",
        "outputId": "ad8484d1-d130-4922-e24a-eb7f0ec3017c"
      },
      "source": [
        "X_train['education'].unique()"
      ],
      "execution_count": null,
      "outputs": [
        {
          "output_type": "execute_result",
          "data": {
            "text/plain": [
              "array(['4', '3', '6', '5', '2', '7', '1'], dtype=object)"
            ]
          },
          "metadata": {
            "tags": []
          },
          "execution_count": 42
        }
      ]
    },
    {
      "cell_type": "code",
      "metadata": {
        "colab": {
          "base_uri": "https://localhost:8080/"
        },
        "id": "XQFYwPVWGXeB",
        "outputId": "cca90a2a-db9e-4779-ddb2-1dbb46a44b5f"
      },
      "source": [
        "plt.title('label balance in train set')\n",
        "X_train['age'].value_counts().sort_index().plot(kind='bar')\n",
        "plt.title('age balance')\n",
        "plt.xlabel('age values')\n",
        "plt.ylabel('amount per label')\n",
        "plt.show()"
      ],
      "execution_count": null,
      "outputs": [
        {
          "output_type": "display_data",
          "data": {
            "image/png": "[encoded data removed]",
            "text/plain": [
              "<Figure size 432x288 with 1 Axes>"
            ]
          },
          "metadata": {
            "tags": [],
            "needs_background": "light"
          }
        }
      ]
    },
    {
      "cell_type": "code",
      "metadata": {
        "colab": {
          "base_uri": "https://localhost:8080/"
        },
        "id": "32_yp5vqsGUL",
        "outputId": "6bc46ef2-785b-4924-efac-d30359de1740"
      },
      "source": [
        "X_train['economic'].unique()"
      ],
      "execution_count": null,
      "outputs": [
        {
          "output_type": "execute_result",
          "data": {
            "text/plain": [
              "array(['3', '2', '4', '1', '5'], dtype=object)"
            ]
          },
          "metadata": {
            "tags": []
          },
          "execution_count": 44
        }
      ]
    },
    {
      "cell_type": "code",
      "metadata": {
        "colab": {
          "base_uri": "https://localhost:8080/"
        },
        "id": "mJ5COfCFGtY6",
        "outputId": "6104895e-4456-464a-8af7-3990b44146dd"
      },
      "source": [
        "plt.title('label balance in train set')\n",
        "X_train['economic'].value_counts().sort_index().plot(kind='bar')\n",
        "plt.title('economic balance')\n",
        "plt.xlabel('economic values')\n",
        "plt.ylabel('amount per label')\n",
        "plt.show()"
      ],
      "execution_count": null,
      "outputs": [
        {
          "output_type": "display_data",
          "data": {
            "image/png": "[encoded data removed]",
            "text/plain": [
              "<Figure size 432x288 with 1 Axes>"
            ]
          },
          "metadata": {
            "tags": [],
            "needs_background": "light"
          }
        }
      ]
    },
    {
      "cell_type": "code",
      "metadata": {
        "colab": {
          "base_uri": "https://localhost:8080/"
        },
        "id": "SkCry11QGzRW",
        "outputId": "da9b58c1-2f4d-4428-cf60-e9ea5eaf2d5d"
      },
      "source": [
        "plt.title('label balance in train set')\n",
        "X_train['religiosity'].value_counts().sort_index().plot(kind='bar')\n",
        "plt.title('religiosity balance')\n",
        "plt.xlabel('religiosity values')\n",
        "plt.ylabel('amount per label')\n",
        "plt.show()"
      ],
      "execution_count": null,
      "outputs": [
        {
          "output_type": "display_data",
          "data": {
            "image/png": "[encoded data removed]",
            "text/plain": [
              "<Figure size 432x288 with 1 Axes>"
            ]
          },
          "metadata": {
            "tags": [],
            "needs_background": "light"
          }
        }
      ]
    },
    {
      "cell_type": "code",
      "metadata": {
        "colab": {
          "base_uri": "https://localhost:8080/"
        },
        "id": "6dLp6-qGG4RG",
        "outputId": "c52d4813-254e-4abd-e63e-6fc5d12b706c"
      },
      "source": [
        "plt.title('label balance in train set')\n",
        "X_train['political'].value_counts().sort_index().plot(kind='bar')\n",
        "plt.title('political balance')\n",
        "plt.xlabel('political values')\n",
        "plt.ylabel('amount per label')\n",
        "plt.show()\n",
        "# X_train['political'].unique()"
      ],
      "execution_count": null,
      "outputs": [
        {
          "output_type": "display_data",
          "data": {
            "image/png": "[encoded data removed]",
            "text/plain": [
              "<Figure size 432x288 with 1 Axes>"
            ]
          },
          "metadata": {
            "tags": [],
            "needs_background": "light"
          }
        }
      ]
    },
    {
      "cell_type": "code",
      "metadata": {
        "colab": {
          "base_uri": "https://localhost:8080/"
        },
        "id": "B8O46bfmIo2q",
        "outputId": "cb786397-3908-4c6a-b341-3675b1edaf4e"
      },
      "source": [
        "plt.title('label balance in train set')\n",
        "X_train['immigration_attitude'].value_counts().sort_index().plot(kind='bar')\n",
        "plt.title('immigration_attitude balance')\n",
        "plt.xlabel('immigration_attitude values')\n",
        "plt.ylabel('amount per label')\n",
        "plt.show()"
      ],
      "execution_count": null,
      "outputs": [
        {
          "output_type": "display_data",
          "data": {
            "image/png": "[encoded data removed]",
            "text/plain": [
              "<Figure size 432x288 with 1 Axes>"
            ]
          },
          "metadata": {
            "tags": [],
            "needs_background": "light"
          }
        }
      ]
    },
    {
      "cell_type": "code",
      "metadata": {
        "colab": {
          "base_uri": "https://localhost:8080/"
        },
        "id": "CXDVtPvYK173",
        "outputId": "ce955ed0-14d3-4408-9d74-19bacffb140d"
      },
      "source": [
        "number_of_men = X_train['man'].sum()\n",
        "number_of_women = X_train['woman'].sum()\n",
        "print('number of men : ', number_of_men)\n",
        "print('number of women : ', number_of_women)"
      ],
      "execution_count": null,
      "outputs": [
        {
          "output_type": "stream",
          "text": [
            "number of men :  118\n",
            "number of women :  179\n"
          ],
          "name": "stdout"
        }
      ]
    },
    {
      "cell_type": "code",
      "metadata": {
        "colab": {
          "base_uri": "https://localhost:8080/"
        },
        "id": "_Va7XmXJE3Cq",
        "outputId": "a1916e69-545b-41b7-b1ce-47defc254216"
      },
      "source": [
        "plt.title('label balance in train set')\n",
        "y_train.value_counts().sort_index().plot(kind='bar')\n",
        "plt.title('label balance')\n",
        "plt.xlabel('label values')\n",
        "plt.ylabel('amount per label')\n",
        "plt.show()"
      ],
      "execution_count": null,
      "outputs": [
        {
          "output_type": "display_data",
          "data": {
            "image/png": "[encoded data removed]",
            "text/plain": [
              "<Figure size 432x288 with 1 Axes>"
            ]
          },
          "metadata": {
            "tags": [],
            "needs_background": "light"
          }
        }
      ]
    },
    {
      "cell_type": "code",
      "metadata": {
        "colab": {
          "base_uri": "https://localhost:8080/"
        },
        "id": "EjwV04IOQJFJ",
        "outputId": "841716a1-4bf8-4289-ff83-e3f103a7c6b7"
      },
      "source": [
        "plt.title('label balance in train set')\n",
        "y_test.value_counts().sort_index().plot(kind='bar')\n",
        "plt.title('label balance')\n",
        "plt.xlabel('label values')\n",
        "plt.ylabel('amount per label')\n",
        "plt.show()"
      ],
      "execution_count": null,
      "outputs": [
        {
          "output_type": "display_data",
          "data": {
            "image/png": "[encoded data removed]",
            "text/plain": [
              "<Figure size 432x288 with 1 Axes>"
            ]
          },
          "metadata": {
            "tags": [],
            "needs_background": "light"
          }
        }
      ]
    },
    {
      "cell_type": "code",
      "metadata": {
        "colab": {
          "base_uri": "https://localhost:8080/"
        },
        "id": "CUEZV22suKV5",
        "outputId": "d0ad0f77-3f2b-425b-e428-6105361bece7"
      },
      "source": [
        "plt.plot(X_train['age'], y_train, 'x', color='black')"
      ],
      "execution_count": null,
      "outputs": [
        {
          "output_type": "execute_result",
          "data": {
            "text/plain": [
              "[<matplotlib.lines.Line2D at 0x7ff9e420ccd0>]"
            ]
          },
          "metadata": {
            "tags": []
          },
          "execution_count": 52
        },
        {
          "output_type": "display_data",
          "data": {
            "image/png": "[encoded data removed]",
            "text/plain": [
              "<Figure size 432x288 with 1 Axes>"
            ]
          },
          "metadata": {
            "tags": [],
            "needs_background": "light"
          }
        }
      ]
    },
    {
      "cell_type": "code",
      "metadata": {
        "colab": {
          "base_uri": "https://localhost:8080/"
        },
        "id": "S9tvgYbUxzsu",
        "outputId": "251fdce7-11c6-4acf-afda-52d515ee8af9"
      },
      "source": [
        "plt.plot(X_train['education'], y_train, 'x', color='black')"
      ],
      "execution_count": null,
      "outputs": [
        {
          "output_type": "execute_result",
          "data": {
            "text/plain": [
              "[<matplotlib.lines.Line2D at 0x7ff9e41d0810>]"
            ]
          },
          "metadata": {
            "tags": []
          },
          "execution_count": 53
        },
        {
          "output_type": "display_data",
          "data": {
            "image/png": "[encoded data removed]",
            "text/plain": [
              "<Figure size 432x288 with 1 Axes>"
            ]
          },
          "metadata": {
            "tags": [],
            "needs_background": "light"
          }
        }
      ]
    },
    {
      "cell_type": "markdown",
      "metadata": {
        "id": "iknwIDlZMpFo"
      },
      "source": [
        "# Classifier"
      ]
    },
    {
      "cell_type": "markdown",
      "metadata": {
        "id": "uxNNUFJ5a1GX"
      },
      "source": [
        "## Normalization & Balancing"
      ]
    },
    {
      "cell_type": "code",
      "metadata": {
        "id": "hfIxMIkNaz1O"
      },
      "source": [
        "# apply Smote on train set to get balanced training set\n",
        "# from imblearn.over_sampling import SMOTE\n",
        "# from imblearn.under_sampling import RandomUnderSampler\n",
        "# from imblearn.pipeline import Pipeline\n",
        "# oversample = SMOTE()\n",
        "# X_train, y_train = oversample.fit_resample(X_train, y_train)\n",
        "# print(\"After Undersampling, counts of label '1': {}\".format(sum(y_train == 1))) \n",
        "# print(\"After Undersampling, counts of label '0': {}\".format(sum(y_train == 0))) "
      ],
      "execution_count": null,
      "outputs": []
    },
    {
      "cell_type": "code",
      "metadata": {
        "colab": {
          "base_uri": "https://localhost:8080/"
        },
        "id": "MbHEbGnvcMd7",
        "outputId": "bb1cf790-14dc-4fa0-e411-947a3f1f97a2"
      },
      "source": [
        "# apply near miss on train set\n",
        "from imblearn.under_sampling import NearMiss \n",
        "nr = NearMiss() \n",
        "X_train, y_train = nr.fit_sample(X_train, y_train.ravel()) \n",
        "print(\"After Undersampling, counts of label '1': {}\".format(sum(y_train == 1))) \n",
        "print(\"After Undersampling, counts of label '0': {}\".format(sum(y_train == 0))) "
      ],
      "execution_count": null,
      "outputs": [
        {
          "output_type": "stream",
          "text": [
            "After Undersampling, counts of label '1': 126\n",
            "After Undersampling, counts of label '0': 126\n"
          ],
          "name": "stdout"
        }
      ]
    },
    {
      "cell_type": "code",
      "metadata": {
        "id": "Ay9OsU4vPYOF"
      },
      "source": [
        "# data normalization with sklearn\n",
        "from sklearn.preprocessing import MinMaxScaler\n",
        "\n",
        "# fit scaler on training data\n",
        "norm = MinMaxScaler().fit(X_train)\n",
        "\n",
        "# transform training data\n",
        "X_train = norm.transform(X_train)\n",
        "\n",
        "# transform testing data\n",
        "X_test = norm.transform(X_test)"
      ],
      "execution_count": null,
      "outputs": []
    },
    {
      "cell_type": "markdown",
      "metadata": {
        "id": "UsNIUK-guAoU"
      },
      "source": [
        "## Models\n"
      ]
    },
    {
      "cell_type": "code",
      "metadata": {
        "id": "FKEe3nmROR6L"
      },
      "source": [
        "def predict(clf):\n",
        "  predictions = clf.predict(X_test)\n",
        "  print(classification_report(y_test, predictions)) \n",
        "  print(accuracy_score(y_test, predictions))"
      ],
      "execution_count": null,
      "outputs": []
    },
    {
      "cell_type": "markdown",
      "metadata": {
        "id": "SyNzqVoMVYnU"
      },
      "source": [
        "### Decision Tree"
      ]
    },
    {
      "cell_type": "code",
      "metadata": {
        "id": "GM0g6MFaNlVa",
        "colab": {
          "base_uri": "https://localhost:8080/"
        },
        "outputId": "d59dd77c-dcc6-4cdb-fbb8-b54fa24d04fd"
      },
      "source": [
        "clf = DecisionTreeClassifier(class_weight='balanced')\n",
        "clf.fit(X_train, y_train)\n",
        "predict(clf)"
      ],
      "execution_count": null,
      "outputs": [
        {
          "output_type": "stream",
          "text": [
            "              precision    recall  f1-score   support\n",
            "\n",
            "       False       0.90      1.00      0.95        18\n",
            "        True       1.00      0.87      0.93        15\n",
            "\n",
            "    accuracy                           0.94        33\n",
            "   macro avg       0.95      0.93      0.94        33\n",
            "weighted avg       0.95      0.94      0.94        33\n",
            "\n",
            "0.9393939393939394\n"
          ],
          "name": "stdout"
        }
      ]
    },
    {
      "cell_type": "markdown",
      "metadata": {
        "id": "azlFJVN5VpQX"
      },
      "source": [
        "### Logistic Regression"
      ]
    },
    {
      "cell_type": "code",
      "metadata": {
        "id": "3rt97jV8LEFA",
        "colab": {
          "base_uri": "https://localhost:8080/"
        },
        "outputId": "dbf97672-a5b9-43b1-9faf-17e20d3c8766"
      },
      "source": [
        "logistic_regression = Pipeline([('clf', linear_model.LogisticRegression(n_jobs=1, C=1e5))]);\n",
        "model = logistic_regression.fit(X_train, y_train)\n",
        "predict(model)   "
      ],
      "execution_count": null,
      "outputs": [
        {
          "output_type": "stream",
          "text": [
            "              precision    recall  f1-score   support\n",
            "\n",
            "       False       0.89      0.94      0.92        18\n",
            "        True       0.93      0.87      0.90        15\n",
            "\n",
            "    accuracy                           0.91        33\n",
            "   macro avg       0.91      0.91      0.91        33\n",
            "weighted avg       0.91      0.91      0.91        33\n",
            "\n",
            "0.9090909090909091\n"
          ],
          "name": "stdout"
        }
      ]
    },
    {
      "cell_type": "markdown",
      "metadata": {
        "id": "8HUhMPglVu6W"
      },
      "source": [
        "### KNN"
      ]
    },
    {
      "cell_type": "code",
      "metadata": {
        "id": "3eAr6ZpGNiPJ",
        "colab": {
          "base_uri": "https://localhost:8080/"
        },
        "outputId": "a6190b1d-a921-489a-bc16-29723f5fae0c"
      },
      "source": [
        "from sklearn.neighbors import KNeighborsClassifier\n",
        "classifier = KNeighborsClassifier(n_neighbors=11)\n",
        "classifier.fit(X_train, y_train)\n",
        "predict(classifier)"
      ],
      "execution_count": null,
      "outputs": [
        {
          "output_type": "stream",
          "text": [
            "              precision    recall  f1-score   support\n",
            "\n",
            "       False       0.82      1.00      0.90        18\n",
            "        True       1.00      0.73      0.85        15\n",
            "\n",
            "    accuracy                           0.88        33\n",
            "   macro avg       0.91      0.87      0.87        33\n",
            "weighted avg       0.90      0.88      0.88        33\n",
            "\n",
            "0.8787878787878788\n"
          ],
          "name": "stdout"
        }
      ]
    },
    {
      "cell_type": "markdown",
      "metadata": {
        "id": "Vdfx8p80VyTG"
      },
      "source": [
        "### SVM"
      ]
    },
    {
      "cell_type": "code",
      "metadata": {
        "id": "Y698Tod0O0KY",
        "colab": {
          "base_uri": "https://localhost:8080/"
        },
        "outputId": "6ffece5e-fd41-4120-e16f-c769530a6c0b"
      },
      "source": [
        "from sklearn.svm import SVC\n",
        "svclassifier = SVC(kernel='linear')\n",
        "svclassifier.fit(X_train, y_train)\n",
        "predict(svclassifier)"
      ],
      "execution_count": null,
      "outputs": [
        {
          "output_type": "stream",
          "text": [
            "              precision    recall  f1-score   support\n",
            "\n",
            "       False       0.85      0.94      0.89        18\n",
            "        True       0.92      0.80      0.86        15\n",
            "\n",
            "    accuracy                           0.88        33\n",
            "   macro avg       0.89      0.87      0.88        33\n",
            "weighted avg       0.88      0.88      0.88        33\n",
            "\n",
            "0.8787878787878788\n"
          ],
          "name": "stdout"
        }
      ]
    },
    {
      "cell_type": "markdown",
      "metadata": {
        "id": "obwUBZ99V11s"
      },
      "source": [
        "### Random Forest"
      ]
    },
    {
      "cell_type": "markdown",
      "metadata": {
        "id": "AzH5vd_Wu022"
      },
      "source": [
        "Using Grid search to find best parameters:"
      ]
    },
    {
      "cell_type": "code",
      "metadata": {
        "id": "DSYx42pJSSQV"
      },
      "source": [
        "# # Number of trees in random forest\n",
        "# n_estimators = [int(x) for x in np.linspace(start = 200, stop = 2000, num = 10)]\n",
        "# # Number of features to consider at every split\n",
        "# max_features = ['auto', 'sqrt']\n",
        "# # Maximum number of levels in tree\n",
        "# max_depth = [int(x) for x in np.linspace(10, 110, num = 11)]\n",
        "# max_depth.append(None)\n",
        "# # Minimum number of samples required to split a node\n",
        "# min_samples_split = [2, 5, 10]\n",
        "# # Minimum number of samples required at each leaf node\n",
        "# min_samples_leaf = [1, 2, 4]\n",
        "# # Method of selecting samples for training each tree\n",
        "# bootstrap = [True, False]\n",
        "# # Create the random grid\n",
        "# random_grid = {'n_estimators': n_estimators,\n",
        "#                'max_features': max_features,\n",
        "#                'max_depth': max_depth,\n",
        "#                'min_samples_split': min_samples_split,\n",
        "#                'min_samples_leaf': min_samples_leaf,\n",
        "#                'bootstrap': bootstrap}"
      ],
      "execution_count": null,
      "outputs": []
    },
    {
      "cell_type": "code",
      "metadata": {
        "id": "-NjMTrBCPBEe"
      },
      "source": [
        "# from sklearn.ensemble import RandomForestClassifier\n",
        "# from sklearn.model_selection import RandomizedSearchCV\n",
        "# rfc = RandomForestClassifier(class_weight='balanced')\n",
        "# rf_random = RandomizedSearchCV(estimator = rfc, param_distributions = random_grid, n_iter = 100, cv = 3, verbose=2, random_state=42, n_jobs = -1)\n",
        "# # Fit the random search model\n",
        "# rf_random.fit(X_train, y_train)"
      ],
      "execution_count": null,
      "outputs": []
    },
    {
      "cell_type": "code",
      "metadata": {
        "id": "Zzn5aK-5SfLa"
      },
      "source": [
        "# rf_random.best_params_"
      ],
      "execution_count": null,
      "outputs": []
    },
    {
      "cell_type": "code",
      "metadata": {
        "id": "wkhWVCkuShFa"
      },
      "source": [
        "# best_random = rf_random.best_estimator_\n",
        "# predictions = best_random.predict(X_test)\n",
        "# print(classification_report(y_test, predictions)) \n",
        "# print(accuracy_score(y_test, predictions))"
      ],
      "execution_count": null,
      "outputs": []
    },
    {
      "cell_type": "markdown",
      "metadata": {
        "id": "CpqIg0EFu5xM"
      },
      "source": [
        "Now using best parameters calculated from grid search:"
      ]
    },
    {
      "cell_type": "code",
      "metadata": {
        "colab": {
          "base_uri": "https://localhost:8080/"
        },
        "id": "n93TfhdvVLf-",
        "outputId": "98f2b9b9-5233-472f-8b83-4ecaa795252c"
      },
      "source": [
        "from sklearn.ensemble import RandomForestClassifier\n",
        "from sklearn.model_selection import RandomizedSearchCV\n",
        "rfc = RandomForestClassifier(bootstrap= True, \n",
        "                            max_depth= 30,\n",
        "                            max_features= 'sqrt',\n",
        "                            min_samples_leaf= 1,\n",
        "                            min_samples_split= 5,\n",
        "                            n_estimators= 400, class_weight='balanced')\n",
        "rfc.fit(X_train, y_train)\n",
        "predict(rfc)"
      ],
      "execution_count": null,
      "outputs": [
        {
          "output_type": "stream",
          "text": [
            "              precision    recall  f1-score   support\n",
            "\n",
            "       False       0.95      1.00      0.97        18\n",
            "        True       1.00      0.93      0.97        15\n",
            "\n",
            "    accuracy                           0.97        33\n",
            "   macro avg       0.97      0.97      0.97        33\n",
            "weighted avg       0.97      0.97      0.97        33\n",
            "\n",
            "0.9696969696969697\n"
          ],
          "name": "stdout"
        }
      ]
    },
    {
      "cell_type": "markdown",
      "metadata": {
        "id": "e4lcEpOZWBtE"
      },
      "source": [
        "### NB"
      ]
    },
    {
      "cell_type": "code",
      "metadata": {
        "id": "kdmyGkBBPK66",
        "colab": {
          "base_uri": "https://localhost:8080/"
        },
        "outputId": "a4bd2c4e-4cc1-4271-a371-55383a03d151"
      },
      "source": [
        "model3 =  MultinomialNB().fit(X_train, y_train)\n",
        "predict(model3)"
      ],
      "execution_count": null,
      "outputs": [
        {
          "output_type": "stream",
          "text": [
            "              precision    recall  f1-score   support\n",
            "\n",
            "       False       0.85      0.94      0.89        18\n",
            "        True       0.92      0.80      0.86        15\n",
            "\n",
            "    accuracy                           0.88        33\n",
            "   macro avg       0.89      0.87      0.88        33\n",
            "weighted avg       0.88      0.88      0.88        33\n",
            "\n",
            "0.8787878787878788\n"
          ],
          "name": "stdout"
        }
      ]
    },
    {
      "cell_type": "markdown",
      "metadata": {
        "id": "GWa38-5S4lpw"
      },
      "source": [
        "# Cluster"
      ]
    },
    {
      "cell_type": "code",
      "metadata": {
        "colab": {
          "base_uri": "https://localhost:8080/"
        },
        "id": "37dHQtqftJwT",
        "outputId": "e09cdb93-a451-4b64-c639-8a204cd4f327"
      },
      "source": [
        "# Try to cluster data with k-means approach... Just for fun:)\n",
        "from sklearn.cluster import KMeans\n",
        "kmeans = KMeans(n_clusters=4, init='k-means++', max_iter=300, n_init=10, random_state=0)\n",
        "pred_y = kmeans.fit_predict(X_train)\n",
        "plt.scatter(X_train[:,0], X_train[:,1])\n",
        "plt.scatter(kmeans.cluster_centers_[:, 0], kmeans.cluster_centers_[:, 1], s=300, c='red')\n",
        "plt.show()"
      ],
      "execution_count": null,
      "outputs": [
        {
          "output_type": "display_data",
          "data": {
            "image/png": "[encoded data removed]",
            "text/plain": [
              "<Figure size 432x288 with 1 Axes>"
            ]
          },
          "metadata": {
            "tags": [],
            "needs_background": "light"
          }
        }
      ]
    },
    {
      "cell_type": "code",
      "metadata": {
        "colab": {
          "base_uri": "https://localhost:8080/"
        },
        "id": "6UIod6RW1Pvq",
        "outputId": "f3e16a0e-57d4-468d-f9ba-033225c1cc1b"
      },
      "source": [
        "df2 = df[list(df.columns)]\n",
        "df2.drop(['woman', 'man','img_family','img_group','img_Reciprocity','img_heroism','img_deference','img_fairness','img_property', 'mac_family',\t'mac_group',\t'mac_reciprocity',\t'mac_heroism',\t'mac_deference',\t'mac_fairness',\t'mac_property'], axis=1, inplace=True)\n",
        "df2.head()"
      ],
      "execution_count": null,
      "outputs": [
        {
          "output_type": "execute_result",
          "data": {
            "text/html": [
              "<div>\n",
              "<style scoped>\n",
              "    .dataframe tbody tr th:only-of-type {\n",
              "        vertical-align: middle;\n",
              "    }\n",
              "\n",
              "    .dataframe tbody tr th {\n",
              "        vertical-align: top;\n",
              "    }\n",
              "\n",
              "    .dataframe thead th {\n",
              "        text-align: right;\n",
              "    }\n",
              "</style>\n",
              "<table border=\"1\" class=\"dataframe\">\n",
              "  <thead>\n",
              "    <tr style=\"text-align: right;\">\n",
              "      <th></th>\n",
              "      <th>immigration_attitude</th>\n",
              "      <th>tendency_immigration</th>\n",
              "      <th>age</th>\n",
              "      <th>education</th>\n",
              "      <th>economic</th>\n",
              "      <th>religiosity</th>\n",
              "      <th>political</th>\n",
              "    </tr>\n",
              "  </thead>\n",
              "  <tbody>\n",
              "    <tr>\n",
              "      <th>0</th>\n",
              "      <td>6</td>\n",
              "      <td>True</td>\n",
              "      <td>21.0</td>\n",
              "      <td>3</td>\n",
              "      <td>4</td>\n",
              "      <td>2</td>\n",
              "      <td>5</td>\n",
              "    </tr>\n",
              "    <tr>\n",
              "      <th>1</th>\n",
              "      <td>6</td>\n",
              "      <td>False</td>\n",
              "      <td>23.0</td>\n",
              "      <td>3</td>\n",
              "      <td>4</td>\n",
              "      <td>3</td>\n",
              "      <td>3</td>\n",
              "    </tr>\n",
              "    <tr>\n",
              "      <th>2</th>\n",
              "      <td>3</td>\n",
              "      <td>False</td>\n",
              "      <td>20.0</td>\n",
              "      <td>3</td>\n",
              "      <td>3</td>\n",
              "      <td>4</td>\n",
              "      <td>2</td>\n",
              "    </tr>\n",
              "    <tr>\n",
              "      <th>3</th>\n",
              "      <td>5</td>\n",
              "      <td>False</td>\n",
              "      <td>16.0</td>\n",
              "      <td>3</td>\n",
              "      <td>2</td>\n",
              "      <td>3</td>\n",
              "      <td>3</td>\n",
              "    </tr>\n",
              "    <tr>\n",
              "      <th>4</th>\n",
              "      <td>4</td>\n",
              "      <td>False</td>\n",
              "      <td>21.0</td>\n",
              "      <td>3</td>\n",
              "      <td>NaN</td>\n",
              "      <td>3</td>\n",
              "      <td>NaN</td>\n",
              "    </tr>\n",
              "  </tbody>\n",
              "</table>\n",
              "</div>"
            ],
            "text/plain": [
              "  immigration_attitude  tendency_immigration  ...  religiosity political\n",
              "0                    6                  True  ...            2         5\n",
              "1                    6                 False  ...            3         3\n",
              "2                    3                 False  ...            4         2\n",
              "3                    5                 False  ...            3         3\n",
              "4                    4                 False  ...            3       NaN\n",
              "\n",
              "[5 rows x 7 columns]"
            ]
          },
          "metadata": {
            "tags": []
          },
          "execution_count": 69
        }
      ]
    },
    {
      "cell_type": "code",
      "metadata": {
        "colab": {
          "base_uri": "https://localhost:8080/"
        },
        "id": "abknFc2hjp8Z",
        "outputId": "68f90844-5bed-416e-ec91-3fff86128650"
      },
      "source": [
        "#Importing required modules\n",
        "from sklearn.datasets import load_digits\n",
        "from sklearn.decomposition import PCA\n",
        "from sklearn.cluster import KMeans\n",
        "import numpy as np\n",
        "df2 = df2.fillna(0)\n",
        "print(df2.columns)\n",
        "data = df2\n",
        "pca = PCA(2)\n",
        "#Transform the data\n",
        "df2 = pca.fit_transform(data)\n",
        "df2.shape"
      ],
      "execution_count": null,
      "outputs": [
        {
          "output_type": "stream",
          "text": [
            "Index(['immigration_attitude', 'tendency_immigration', 'age', 'education',\n",
            "       'economic', 'religiosity', 'political'],\n",
            "      dtype='object')\n"
          ],
          "name": "stdout"
        },
        {
          "output_type": "execute_result",
          "data": {
            "text/plain": [
              "(330, 2)"
            ]
          },
          "metadata": {
            "tags": []
          },
          "execution_count": 70
        }
      ]
    },
    {
      "cell_type": "code",
      "metadata": {
        "colab": {
          "base_uri": "https://localhost:8080/"
        },
        "id": "ZcSqqHm4jtdZ",
        "outputId": "3e0d714b-f00b-4263-baf5-b58827330252"
      },
      "source": [
        "#Import required module\n",
        "from sklearn.cluster import KMeans\n",
        " \n",
        "#Initialize the class object\n",
        "kmeans = KMeans()\n",
        " \n",
        "#predict the labels of clusters.\n",
        "label = kmeans.fit_predict(df2)\n",
        " \n",
        "print(np.unique(label))"
      ],
      "execution_count": null,
      "outputs": [
        {
          "output_type": "stream",
          "text": [
            "[0 1 2 3 4 5 6 7]\n"
          ],
          "name": "stdout"
        }
      ]
    },
    {
      "cell_type": "code",
      "metadata": {
        "id": "2f0JzoyEmADG"
      },
      "source": [
        ""
      ],
      "execution_count": null,
      "outputs": []
    }
  ]
}